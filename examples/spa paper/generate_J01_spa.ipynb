{
 "cells": [
  {
   "cell_type": "code",
   "execution_count": 1,
   "id": "e0ca3f54",
   "metadata": {},
   "outputs": [],
   "source": [
    "import copy\n",
    "\n",
    "import numpy as np\n",
    "import sympy as smp\n",
    "import matplotlib.pyplot as plt\n",
    "\n",
    "from centrex_tlf import states, couplings, transitions, hamiltonian, lindblad\n",
    "\n",
    "from effective_hamiltonian import build_effective_operators\n",
    "from julia_code import sympy_matrix_to_julia_fill_hermitian"
   ]
  },
  {
   "cell_type": "code",
   "execution_count": 2,
   "id": "8525f658",
   "metadata": {},
   "outputs": [],
   "source": [
    "plt.rcParams.update({f\"font.size\": 14})"
   ]
  },
  {
   "cell_type": "code",
   "execution_count": 3,
   "id": "f0e70823",
   "metadata": {},
   "outputs": [],
   "source": [
    "X_states_uncoupled = states.generate_uncoupled_states_ground(Js=[0, 1, 2])\n",
    "\n",
    "ham_uncoupled = hamiltonian.generate_uncoupled_hamiltonian_X(X_states_uncoupled)\n",
    "ham_func = hamiltonian.generate_uncoupled_hamiltonian_X_function(ham_uncoupled)"
   ]
  },
  {
   "cell_type": "code",
   "execution_count": 4,
   "id": "285f69eb",
   "metadata": {},
   "outputs": [],
   "source": [
    "Huncoupled = ham_func([0, 0, 0], [0, 0, 1e-5])\n",
    "eigenvals, eigenvecs = np.linalg.eigh(Huncoupled)\n",
    "H0 = np.diag(eigenvals)\n",
    "HSz_unc = ham_uncoupled.HSz * 2 * np.pi\n",
    "\n",
    "# filter small values\n",
    "m = np.abs(HSz_unc) < (np.abs(HSz_unc).max() / 1e6)\n",
    "HSz_unc[m] = 0\n",
    "\n",
    "# make states and filter\n",
    "QN = hamiltonian.matrix_to_states(eigenvecs, list(X_states_uncoupled))\n",
    "QN = [qn.remove_small_components().normalize() for qn in QN]"
   ]
  },
  {
   "cell_type": "markdown",
   "id": "e1d00003",
   "metadata": {},
   "source": [
    "# Microwave couplings"
   ]
  },
  {
   "cell_type": "code",
   "execution_count": 5,
   "id": "2d55e692",
   "metadata": {},
   "outputs": [],
   "source": [
    "QN_coupled = [qn.transform_to_coupled() for qn in QN]\n",
    "QN_coupled = [qn.remove_small_components().normalize() for qn in QN_coupled]"
   ]
  },
  {
   "cell_type": "code",
   "execution_count": 6,
   "id": "aa48ea77",
   "metadata": {},
   "outputs": [],
   "source": [
    "X_states_coupled = [qn.transform_to_coupled() for qn in X_states_uncoupled]\n",
    "full_dmat = couplings.generate_coupling_matrix(\n",
    "    X_states_coupled,\n",
    "    X_states_coupled[:4],\n",
    "    X_states_coupled[4:16],\n",
    "    np.array([0, 0, 1], dtype=np.complex128),\n",
    ")"
   ]
  },
  {
   "cell_type": "code",
   "execution_count": 7,
   "id": "30c4966f",
   "metadata": {},
   "outputs": [],
   "source": [
    "from centrex_tlf.couplings.transition import TransitionSelector\n",
    "\n",
    "\n",
    "trans = [\n",
    "    transitions.MicrowaveTransition(0, 1),\n",
    "]\n",
    "\n",
    "transition_selectors: list[TransitionSelector] = (\n",
    "    couplings.generate_transition_selectors(\n",
    "        transitions=trans,\n",
    "        polarizations=[\n",
    "            [couplings.polarization_Z],\n",
    "        ],\n",
    "    )\n",
    ")\n",
    "\n",
    "QN_coupled_largest = [qn.largest for qn in QN_coupled]\n",
    "coupling_fields = []\n",
    "for trans in transition_selectors:\n",
    "    ground_states = [\n",
    "        QN_coupled[idx]\n",
    "        for idx in np.unique(\n",
    "            [QN_coupled_largest.index(qn.largest) for qn in trans.ground]\n",
    "        )\n",
    "    ]\n",
    "    excited_states = [\n",
    "        QN_coupled[idx]\n",
    "        for idx in np.unique(\n",
    "            [QN_coupled_largest.index(qn.largest) for qn in trans.excited]\n",
    "        )\n",
    "    ]\n",
    "\n",
    "    cf = []\n",
    "    for pol in trans.polarizations:\n",
    "        cmat = couplings.generate_coupling_matrix(\n",
    "            QN_coupled, ground_states, excited_states, pol\n",
    "        )\n",
    "        # filter small values\n",
    "        cmat[np.abs(cmat) < (np.abs(cmat).max() / 1e4)] = 0\n",
    "        cf.append(couplings.CouplingField(pol, cmat))\n",
    "\n",
    "    main_coupling = np.abs(cf[0].field).max()\n",
    "    idg, ide = np.where(np.abs(cf[0].field) == main_coupling)[0]\n",
    "    coupling_fields.append(\n",
    "        couplings.CouplingFields(\n",
    "            QN_coupled[idg],\n",
    "            QN_coupled[ide],\n",
    "            main_coupling,\n",
    "            ground_states,\n",
    "            excited_states,\n",
    "            cf,\n",
    "        )\n",
    "    )\n"
   ]
  },
  {
   "cell_type": "code",
   "execution_count": 8,
   "id": "3ab49a20",
   "metadata": {},
   "outputs": [],
   "source": [
    "cpl_free = coupling_fields[0].fields[0].field"
   ]
  },
  {
   "cell_type": "code",
   "execution_count": 9,
   "id": "1f2813bc",
   "metadata": {},
   "outputs": [
    {
     "data": {
      "text/plain": [
       "<matplotlib.image.AxesImage at 0x240b5025350>"
      ]
     },
     "execution_count": 9,
     "metadata": {},
     "output_type": "execute_result"
    },
    {
     "data": {
      "image/png": "[encoded data removed]",
      "text/plain": [
       "<Figure size 640x480 with 1 Axes>"
      ]
     },
     "metadata": {},
     "output_type": "display_data"
    }
   ],
   "source": [
    "plt.imshow(cpl_free.real[:16, :16])"
   ]
  },
  {
   "cell_type": "code",
   "execution_count": 10,
   "id": "8d1da97b",
   "metadata": {},
   "outputs": [
    {
     "data": {
      "text/plain": [
       "True"
      ]
     },
     "execution_count": 10,
     "metadata": {},
     "output_type": "execute_result"
    }
   ],
   "source": [
    "np.allclose(\n",
    "    np.abs((eigenvecs.conj().T @ full_dmat @ eigenvecs))[:16, :16],\n",
    "    np.abs(cpl_free)[:16, :16],\n",
    "    atol=1e-3,\n",
    "    rtol=1e-7,\n",
    ")"
   ]
  },
  {
   "cell_type": "code",
   "execution_count": 11,
   "id": "0c9a274f",
   "metadata": {},
   "outputs": [
    {
     "data": {
      "text/plain": [
       "<matplotlib.image.AxesImage at 0x240cdea1b90>"
      ]
     },
     "execution_count": 11,
     "metadata": {},
     "output_type": "execute_result"
    },
    {
     "data": {
      "image/png": "[encoded data removed]",
      "text/plain": [
       "<Figure size 640x480 with 1 Axes>"
      ]
     },
     "metadata": {},
     "output_type": "display_data"
    }
   ],
   "source": [
    "plt.imshow((eigenvecs.conj().T @ full_dmat @ eigenvecs).real[:16, :16])"
   ]
  },
  {
   "cell_type": "code",
   "execution_count": 12,
   "id": "b3ead123",
   "metadata": {},
   "outputs": [],
   "source": [
    "full_dmat_free = eigenvecs.conj().T @ full_dmat @ eigenvecs\n",
    "# Effective Hamiltonian\n",
    "Heff0, Heff1, Heff2, Hmw0, Hmw1 = build_effective_operators(\n",
    "    eigenvals, eigenvecs, HSz_unc, full_dmat_free, blocks=[(0, 16)]\n",
    ")"
   ]
  },
  {
   "cell_type": "code",
   "execution_count": 13,
   "id": "ed41b6dc",
   "metadata": {},
   "outputs": [
    {
     "data": {
      "text/plain": [
       "True"
      ]
     },
     "execution_count": 13,
     "metadata": {},
     "output_type": "execute_result"
    }
   ],
   "source": [
    "np.allclose(H0[:16, :16], Heff0)"
   ]
  },
  {
   "cell_type": "code",
   "execution_count": 14,
   "id": "c5009d88",
   "metadata": {},
   "outputs": [
    {
     "data": {
      "text/plain": [
       "<matplotlib.image.AxesImage at 0x240cdd37610>"
      ]
     },
     "execution_count": 14,
     "metadata": {},
     "output_type": "execute_result"
    },
    {
     "data": {
      "image/png": "[encoded data removed]",
      "text/plain": [
       "<Figure size 640x480 with 1 Axes>"
      ]
     },
     "metadata": {},
     "output_type": "display_data"
    },
    {
     "data": {
      "image/png": "[encoded data removed]",
      "text/plain": [
       "<Figure size 640x480 with 1 Axes>"
      ]
     },
     "metadata": {},
     "output_type": "display_data"
    },
    {
     "data": {
      "image/png": "[encoded data removed]",
      "text/plain": [
       "<Figure size 640x480 with 1 Axes>"
      ]
     },
     "metadata": {},
     "output_type": "display_data"
    }
   ],
   "source": [
    "plt.imshow(np.abs(Heff0 + 172 * Heff1 + 172**2 * Heff2))\n",
    "plt.figure()\n",
    "plt.imshow(np.real(172 * Heff1))\n",
    "plt.figure()\n",
    "plt.imshow(np.real(172**2 * Heff2))"
   ]
  },
  {
   "cell_type": "code",
   "execution_count": 15,
   "id": "15cc1a01",
   "metadata": {},
   "outputs": [
    {
     "data": {
      "text/plain": [
       "<matplotlib.image.AxesImage at 0x240cdf8f950>"
      ]
     },
     "execution_count": 15,
     "metadata": {},
     "output_type": "execute_result"
    },
    {
     "data": {
      "image/png": "[encoded data removed]",
      "text/plain": [
       "<Figure size 640x480 with 1 Axes>"
      ]
     },
     "metadata": {},
     "output_type": "display_data"
    },
    {
     "data": {
      "image/png": "[encoded data removed]",
      "text/plain": [
       "<Figure size 640x480 with 1 Axes>"
      ]
     },
     "metadata": {},
     "output_type": "display_data"
    }
   ],
   "source": [
    "plt.imshow(Hmw0.real)\n",
    "plt.figure()\n",
    "plt.imshow(172 * Hmw1.real)"
   ]
  },
  {
   "cell_type": "code",
   "execution_count": 16,
   "id": "86ea73b0",
   "metadata": {},
   "outputs": [
    {
     "name": "stdout",
     "output_type": "stream",
     "text": [
      "ratio=3.12e-12\n"
     ]
    }
   ],
   "source": [
    "# basically Hmw1 is very small so doesn't contribute much\n",
    "max_offdiag = np.max(np.abs(Hmw1 - np.diag(np.diag(Hmw1))))\n",
    "max_diag = np.max(np.abs(np.diag(Hmw1)))\n",
    "ratio = max(max_offdiag, max_diag) / np.max(np.abs(Hmw0))\n",
    "print(f\"{ratio=:.2e}\")"
   ]
  },
  {
   "cell_type": "code",
   "execution_count": 17,
   "id": "d626cf81",
   "metadata": {},
   "outputs": [],
   "source": [
    "Heff = Heff0 + 172 * Heff1  # + 172**2 * Heff2\n",
    "E_eff, U_eff = np.linalg.eigh(Heff)"
   ]
  },
  {
   "cell_type": "code",
   "execution_count": 18,
   "id": "6bc22295",
   "metadata": {},
   "outputs": [
    {
     "data": {
      "text/plain": [
       "1.00+0.00j x |J = 1, mJ = -1, I₁ = 1/2, m₁ = 1/2, I₂ = 1/2, m₂ = -1/2, P = -, Ω = 0>\n",
       "0.07+0.00j x |J = 1, mJ = -1, I₁ = 1/2, m₁ = -1/2, I₂ = 1/2, m₂ = 1/2, P = -, Ω = 0>\n",
       "-0.03+0.00j x |J = 1, mJ = 0, I₁ = 1/2, m₁ = -1/2, I₂ = 1/2, m₂ = -1/2, P = -, Ω = 0>"
      ]
     },
     "execution_count": 18,
     "metadata": {},
     "output_type": "execute_result"
    }
   ],
   "source": [
    "blocks = [(0, 4), (4, 16)]\n",
    "keep = np.hstack([np.arange(s, t) for s, t in blocks])  # [0,1,…,15]\n",
    "n = eigenvecs.shape[0]\n",
    "m = len(keep)\n",
    "Psi_fieldfree = np.zeros((n, m), complex)\n",
    "# each column j of U_P gives the P-space coefficients of eigenvector j\n",
    "# so stick them into the rows of Psi_fieldfree labelled by 'keep'\n",
    "Psi_fieldfree[keep, :] = U_eff\n",
    "Psi_uncoupled_eff = eigenvecs @ Psi_fieldfree\n",
    "\n",
    "QN172eff = hamiltonian.matrix_to_states(Psi_uncoupled_eff, list(X_states_uncoupled))\n",
    "QN172eff[7]"
   ]
  },
  {
   "cell_type": "code",
   "execution_count": 19,
   "id": "3606fafe",
   "metadata": {},
   "outputs": [
    {
     "data": {
      "text/plain": [
       "1.00-0.00j x |J = 1, mJ = -1, I₁ = 1/2, m₁ = 1/2, I₂ = 1/2, m₂ = -1/2, P = -, Ω = 0>\n",
       "0.07-0.00j x |J = 1, mJ = -1, I₁ = 1/2, m₁ = -1/2, I₂ = 1/2, m₂ = 1/2, P = -, Ω = 0>\n",
       "-0.03+0.00j x |J = 1, mJ = 0, I₁ = 1/2, m₁ = -1/2, I₂ = 1/2, m₂ = -1/2, P = -, Ω = 0>\n",
       "0.01-0.00j x |J = 2, mJ = -1, I₁ = 1/2, m₁ = 1/2, I₂ = 1/2, m₂ = -1/2, P = +, Ω = 0>"
      ]
     },
     "execution_count": 19,
     "metadata": {},
     "output_type": "execute_result"
    }
   ],
   "source": [
    "E172, U172 = np.linalg.eigh(ham_func([0, 0, 172], [0, 0, 1e-5]))\n",
    "QN172 = hamiltonian.matrix_to_states(U172, list(X_states_uncoupled))\n",
    "QN172[7]"
   ]
  },
  {
   "cell_type": "code",
   "execution_count": 20,
   "id": "613a0767",
   "metadata": {},
   "outputs": [
    {
     "data": {
      "text/plain": [
       "array([-2.24323676e-01, -2.24323677e-01, -2.24323605e-01, -2.24323669e-01,\n",
       "       -1.00529974e+03, -1.00543460e+03, -1.00537965e+03, -1.00537965e+03,\n",
       "       -1.00511817e+03, -1.00511817e+03, -1.00511632e+03, -1.00511632e+03,\n",
       "       -1.33970468e+03, -1.33970468e+03, -1.33965190e+03, -1.33978658e+03])"
      ]
     },
     "execution_count": 20,
     "metadata": {},
     "output_type": "execute_result"
    }
   ],
   "source": [
    "(E172[:16] - E_eff) / (2 * np.pi * 1e3)"
   ]
  },
  {
   "cell_type": "code",
   "execution_count": 21,
   "id": "d4e46c20",
   "metadata": {},
   "outputs": [
    {
     "data": {
      "text/plain": [
       "<matplotlib.image.AxesImage at 0x240ce061310>"
      ]
     },
     "execution_count": 21,
     "metadata": {},
     "output_type": "execute_result"
    },
    {
     "data": {
      "image/png": "[encoded data removed]",
      "text/plain": [
       "<Figure size 640x480 with 1 Axes>"
      ]
     },
     "metadata": {},
     "output_type": "display_data"
    }
   ],
   "source": [
    "plt.imshow((U_eff.conj().T @ (Hmw0) @ U_eff).real)"
   ]
  },
  {
   "cell_type": "code",
   "execution_count": 22,
   "id": "b8c43270",
   "metadata": {},
   "outputs": [
    {
     "data": {
      "text/plain": [
       "<matplotlib.image.AxesImage at 0x240ce1a4410>"
      ]
     },
     "execution_count": 22,
     "metadata": {},
     "output_type": "execute_result"
    },
    {
     "data": {
      "image/png": "[encoded data removed]",
      "text/plain": [
       "<Figure size 640x480 with 1 Axes>"
      ]
     },
     "metadata": {},
     "output_type": "display_data"
    }
   ],
   "source": [
    "plt.imshow(\n",
    "    (\n",
    "        U_eff.conj().T @ (eigenvecs.conj().T @ full_dmat @ eigenvecs)[:16, :16] @ U_eff\n",
    "    ).real\n",
    ")"
   ]
  },
  {
   "cell_type": "code",
   "execution_count": 23,
   "id": "1567fa2e",
   "metadata": {},
   "outputs": [],
   "source": [
    "QN172 = [qn.remove_small_components().normalize() for qn in QN172]\n",
    "QN172_coupled = [qn.transform_to_coupled() for qn in QN172]\n",
    "QN172_coupled = [qn.remove_small_components().normalize() for qn in QN172_coupled]"
   ]
  },
  {
   "cell_type": "code",
   "execution_count": 24,
   "id": "b2b5da61",
   "metadata": {},
   "outputs": [],
   "source": [
    "QN_coupled_largest = [qn.largest for qn in QN172_coupled]\n",
    "coupling_fields_172 = []\n",
    "for trans in transition_selectors:\n",
    "    ground_states = [\n",
    "        QN172_coupled[idx]\n",
    "        for idx in np.unique(\n",
    "            [QN_coupled_largest.index(qn.largest) for qn in trans.ground]\n",
    "        )\n",
    "    ]\n",
    "    excited_states = [\n",
    "        QN172_coupled[idx]\n",
    "        for idx in np.unique(\n",
    "            [QN_coupled_largest.index(qn.largest) for qn in trans.excited]\n",
    "        )\n",
    "    ]\n",
    "\n",
    "    cf = []\n",
    "    for pol in trans.polarizations:\n",
    "        cmat = couplings.generate_coupling_matrix(\n",
    "            QN172_coupled, ground_states, excited_states, pol\n",
    "        )\n",
    "        # filter small values\n",
    "        cmat[np.abs(cmat) < (np.abs(cmat).max() / 1e4)] = 0\n",
    "        cf.append(couplings.CouplingField(pol, cmat))\n",
    "\n",
    "    main_coupling = np.abs(cf[0].field).max()\n",
    "    idg, ide = np.where(np.abs(cf[0].field) == main_coupling)[0]\n",
    "    coupling_fields_172.append(\n",
    "        couplings.CouplingFields(\n",
    "            QN_coupled[idg],\n",
    "            QN_coupled[ide],\n",
    "            main_coupling,\n",
    "            ground_states,\n",
    "            excited_states,\n",
    "            cf,\n",
    "        )\n",
    "    )\n"
   ]
  },
  {
   "cell_type": "code",
   "execution_count": 25,
   "id": "6b7db345",
   "metadata": {},
   "outputs": [],
   "source": [
    "cpl_172 = coupling_fields_172[0].fields[0].field"
   ]
  },
  {
   "cell_type": "code",
   "execution_count": 26,
   "id": "6cf829f0",
   "metadata": {},
   "outputs": [
    {
     "data": {
      "text/plain": [
       "<matplotlib.image.AxesImage at 0x240cdd86c90>"
      ]
     },
     "execution_count": 26,
     "metadata": {},
     "output_type": "execute_result"
    },
    {
     "data": {
      "image/png": "[encoded data removed]",
      "text/plain": [
       "<Figure size 640x480 with 1 Axes>"
      ]
     },
     "metadata": {},
     "output_type": "display_data"
    }
   ],
   "source": [
    "plt.imshow(cpl_172.real[:16, :16])"
   ]
  },
  {
   "cell_type": "code",
   "execution_count": 27,
   "id": "b53d2617",
   "metadata": {},
   "outputs": [],
   "source": [
    "cpl_eff = (\n",
    "    U_eff.conj().T @ (eigenvecs.conj().T @ full_dmat @ eigenvecs)[:16, :16] @ U_eff\n",
    ")\n",
    "cpl_eff[np.abs(cpl_eff) < 1e-2] = 0"
   ]
  },
  {
   "cell_type": "code",
   "execution_count": 28,
   "id": "b1b79d38",
   "metadata": {},
   "outputs": [
    {
     "data": {
      "text/plain": [
       "array([[0.01829431, 0.        , 0.        , 0.        , 0.        ,\n",
       "        0.        , 0.01536255, 0.        , 0.        , 0.        ,\n",
       "        0.        , 0.        , 0.57685436, 0.        , 0.        ,\n",
       "        0.        ],\n",
       "       [0.        , 0.01829431, 0.        , 0.        , 0.        ,\n",
       "        0.        , 0.        , 0.01536255, 0.        , 0.        ,\n",
       "        0.        , 0.        , 0.        , 0.57685436, 0.        ,\n",
       "        0.        ],\n",
       "       [0.        , 0.        , 0.0182943 , 0.        , 0.        ,\n",
       "        0.01689393, 0.        , 0.        , 0.        , 0.        ,\n",
       "        0.        , 0.        , 0.        , 0.        , 0.57681301,\n",
       "        0.        ],\n",
       "       [0.        , 0.        , 0.        , 0.01829431, 0.01282852,\n",
       "        0.        , 0.        , 0.        , 0.        , 0.        ,\n",
       "        0.        , 0.        , 0.        , 0.        , 0.        ,\n",
       "        0.57691774]])"
      ]
     },
     "execution_count": 28,
     "metadata": {},
     "output_type": "execute_result"
    }
   ],
   "source": [
    "cpl_eff[:4, :16].real"
   ]
  },
  {
   "cell_type": "code",
   "execution_count": 29,
   "id": "c45a1eeb",
   "metadata": {},
   "outputs": [
    {
     "data": {
      "text/plain": [
       "array([[ 0.        ,  0.        ,  0.        ,  0.        ,  0.        ,\n",
       "         0.        , -0.01704285,  0.        ,  0.        , -0.00144532,\n",
       "         0.        ,  0.        ,  0.57685038,  0.        ,  0.        ,\n",
       "         0.        ],\n",
       "       [ 0.        ,  0.        ,  0.        ,  0.        ,  0.        ,\n",
       "         0.        ,  0.        , -0.01704285, -0.00144532,  0.        ,\n",
       "         0.        ,  0.        ,  0.        ,  0.57685038,  0.        ,\n",
       "         0.        ],\n",
       "       [ 0.        ,  0.        ,  0.        ,  0.        ,  0.        ,\n",
       "        -0.01872656,  0.        ,  0.        ,  0.        ,  0.        ,\n",
       "         0.        ,  0.        ,  0.        ,  0.        ,  0.5768    ,\n",
       "         0.        ],\n",
       "       [ 0.        ,  0.        ,  0.        ,  0.        ,  0.01421467,\n",
       "         0.        ,  0.        ,  0.        ,  0.        ,  0.        ,\n",
       "         0.        ,  0.        ,  0.        ,  0.        ,  0.        ,\n",
       "         0.57692878]])"
      ]
     },
     "execution_count": 29,
     "metadata": {},
     "output_type": "execute_result"
    }
   ],
   "source": [
    "cpl_172[:4, :16].real"
   ]
  },
  {
   "cell_type": "code",
   "execution_count": 30,
   "id": "ea7377c1",
   "metadata": {},
   "outputs": [
    {
     "name": "stdout",
     "output_type": "stream",
     "text": [
      "[9.99748926e-01 9.99748926e-01 9.99748926e-01 9.99748926e-01\n",
      " 1.24147131e-07 2.15299548e-07 1.78036399e-07 1.78036394e-07\n",
      " 1.27703713e-09 1.27703776e-09 1.17525372e-27 8.02043685e-30\n",
      " 2.50894992e-04 2.50894992e-04 2.50858900e-04 2.50950123e-04]\n",
      "[2.51074305e-04 2.51074305e-04 2.51074200e-04 2.51074270e-04\n",
      " 9.99999876e-01 9.99999785e-01 9.99999822e-01 9.99999822e-01\n",
      " 9.99999999e-01 9.99999999e-01 1.00000000e+00 1.00000000e+00\n",
      " 9.99749105e-01 9.99749105e-01 9.99749141e-01 9.99749050e-01]\n"
     ]
    }
   ],
   "source": [
    "J0_idx = np.arange(0, 4)\n",
    "weights_J0 = np.sum(np.abs(U_eff[J0_idx, :]) ** 2, axis=0)\n",
    "\n",
    "# similarly for J=1\n",
    "J1_idx = np.arange(4, 16)\n",
    "weights_J1 = np.sum(np.abs(U_eff[J1_idx, :]) ** 2, axis=0)\n",
    "\n",
    "print(weights_J0)\n",
    "print(weights_J1)"
   ]
  },
  {
   "cell_type": "code",
   "execution_count": 31,
   "id": "4da2c80e",
   "metadata": {},
   "outputs": [
    {
     "name": "stdout",
     "output_type": "stream",
     "text": [
      "min overlap in P-space: 0.9999698588802379\n"
     ]
    }
   ],
   "source": [
    "overlaps = np.abs(np.diag(Psi_uncoupled_eff.conj().T @ U172))\n",
    "print(\"min overlap in P-space:\", overlaps.min())"
   ]
  },
  {
   "cell_type": "code",
   "execution_count": 32,
   "id": "813f8682",
   "metadata": {},
   "outputs": [
    {
     "data": {
      "text/plain": [
       "array([1.        , 1.        , 1.        , 1.        , 0.99997828,\n",
       "       0.99997613, 0.99997691, 0.99997691, 0.9999811 , 0.9999811 ,\n",
       "       0.99998116, 0.99998116, 0.99997063, 0.99997063, 0.99996986,\n",
       "       0.99997201])"
      ]
     },
     "execution_count": 32,
     "metadata": {},
     "output_type": "execute_result"
    }
   ],
   "source": [
    "overlaps"
   ]
  },
  {
   "cell_type": "code",
   "execution_count": 33,
   "id": "9a3c03fa",
   "metadata": {},
   "outputs": [],
   "source": [
    "Ez = smp.Symbol(\"Ez\", real=True)\n",
    "Ω0 = smp.Symbol(\"Ω0\")\n",
    "ω0 = smp.Symbol(\"ω0\", real=True)\n",
    "δ0 = smp.Symbol(\"δ0\", real=True)\n",
    "cpl_mu = Hmw0.copy()\n",
    "cpl_mu[np.abs(cpl_mu) < 1e-2] = 0  # filter small values\n",
    "\n",
    "heff1 = Heff1.copy()\n",
    "heff1[np.abs(heff1) < 1e-5] = 0  # filter small values\n",
    "\n",
    "heff2 = Heff2.copy()\n",
    "heff2[np.abs(heff2) < 1e-7] = 0\n",
    "\n",
    "heff0 = smp.Matrix(Heff0.copy())\n",
    "for idx in range(4, 16):\n",
    "    heff0[idx, idx] -= ω0\n",
    "for idx in range(0, 16):\n",
    "    heff0[idx, idx] -= H0[1, 1]\n",
    "\n",
    "heff0 = heff0.subs({ω0: H0[13, 13] - H0[1, 1] + δ0})\n",
    "np.fill_diagonal(cpl_mu, 0)\n",
    "Heff = smp.Matrix(heff0 + Ez * heff1 + Ez**2 * heff2 + Ω0 * cpl_mu)\n",
    "func, _ = sympy_matrix_to_julia_fill_hermitian(Heff, \"hamiltonian_effective!\")"
   ]
  },
  {
   "cell_type": "code",
   "execution_count": 39,
   "id": "1aaccdca",
   "metadata": {},
   "outputs": [
    {
     "name": "stdout",
     "output_type": "stream",
     "text": [
      "function hamiltonian_effective!(H, Ez, Ω0, δ0)\n",
      "    @inbounds begin\n",
      "        zero_matrix!(H)\n",
      "        t0 = Ez .^ 2\n",
      "        H[1,1] = -0.203910287276813\n",
      "        H[1,5] = 98.8468961775812 * Ez\n",
      "        H[5,1] = conj(H[1,5])\n",
      "        H[1,6] = 4719731.80277188 * Ez - 0.352905590484275 * Ω0\n",
      "        H[6,1] = conj(H[1,6])\n",
      "        H[1,7] = 3037.686121584 * Ez\n",
      "        H[7,1] = conj(H[1,7])\n",
      "        H[1,8] = 64.8184489245145 * Ez\n",
      "        H[8,1] = conj(H[1,8])\n",
      "        H[1,9] = -2827.42366898643 * Ez\n",
      "        H[9,1] = conj(H[1,9])\n",
      "        H[1,10] = 165447.844974341 * Ez - 0.0123709295072095 * Ω0\n",
      "        H[10,1] = conj(H[1,10])\n",
      "        H[1,11] = -2739903.01558743 * Ez + 0.204869075615216 * Ω0\n",
      "        H[11,1] = conj(H[1,11])\n",
      "        H[1,12] = -1554.75150117724 * Ez\n",
      "        H[12,1] = conj(H[1,12])\n",
      "        H[1,13] = 5459877.56152657 * Ez - 0.408248073511166 * Ω0\n",
      "        H[13,1] = conj(H[1,13])\n",
      "        H[1,14] = -60.8047017236989 * Ez\n",
      "        H[14,1] = conj(H[1,14])\n",
      "        H[1,15] = 114.347618969987 * Ez\n",
      "        H[15,1] = conj(H[1,15])\n",
      "        H[2,5] = -4457973.37816376 * Ez + 0.33333333324764 * Ω0\n",
      "        H[5,2] = conj(H[2,5])\n",
      "        H[2,6] = 104.648842317083 * Ez\n",
      "        H[6,2] = conj(H[2,6])\n",
      "        H[2,7] = 3.25093675287555 * Ez\n",
      "        H[7,2] = conj(H[2,7])\n",
      "        H[2,8] = 0.00141053601389573 * Ez\n",
      "        H[8,2] = conj(H[2,8])\n",
      "        H[2,9] = -0.239130882722158 * Ez\n",
      "        H[9,2] = conj(H[2,9])\n",
      "        H[2,10] = 14.0628229016998 * Ez\n",
      "        H[10,2] = conj(H[2,10])\n",
      "        H[2,11] = -60.1264652246523 * Ez\n",
      "        H[11,2] = conj(H[2,11])\n",
      "        H[2,12] = -109.655935971803 * Ez\n",
      "        H[12,2] = conj(H[2,12])\n",
      "        H[2,13] = -110.627909708035 * Ez\n",
      "        H[13,2] = conj(H[2,13])\n",
      "        H[2,14] = -6304526.74455453 * Ez + 0.471404508408851 * Ω0\n",
      "        H[14,2] = conj(H[2,14])\n",
      "        H[2,15] = 1434.99757687073 * Ez\n",
      "        H[15,2] = conj(H[2,15])\n",
      "        H[2,16] = -0.00104251434103592 * Ez\n",
      "        H[16,2] = conj(H[2,16])\n",
      "        H[3,3] = 0.203802646166878\n",
      "        H[3,5] = -0.000222178747142291 * Ez\n",
      "        H[5,3] = conj(H[3,5])\n",
      "        H[3,6] = -64.651256265367 * Ez\n",
      "        H[6,3] = conj(H[3,6])\n",
      "        H[3,7] = -259.746197103084 * Ez\n",
      "        H[7,3] = conj(H[3,7])\n",
      "        H[3,8] = 4719732.00029503 * Ez - 0.352905605253549 * Ω0\n",
      "        H[8,3] = conj(H[3,8])\n",
      "        H[3,9] = -2744486.41367571 * Ez + 0.205211787209049 * Ω0\n",
      "        H[9,3] = conj(H[3,9])\n",
      "        H[3,10] = -46825.59686497 * Ez\n",
      "        H[10,3] = conj(H[3,10])\n",
      "        H[3,11] = 4.60887743701224 * Ez\n",
      "        H[11,3] = conj(H[3,11])\n",
      "        H[3,12] = -56.0092003183019 * Ez\n",
      "        H[12,3] = conj(H[3,12])\n",
      "        H[3,13] = -114.350568546651 * Ez\n",
      "        H[13,3] = conj(H[3,13])\n",
      "        H[3,14] = 1242.74755844634 * Ez\n",
      "        H[14,3] = conj(H[3,14])\n",
      "        H[3,15] = 5459882.99991352 * Ez - 0.408248480152315 * Ω0\n",
      "        H[15,3] = conj(H[3,15])\n",
      "        H[3,16] = 4.27112786897421 * Ez\n",
      "        H[16,3] = conj(H[3,16])\n",
      "        H[4,4] = 83566.3656423294\n",
      "        H[4,5] = 1.46724954589485 * Ez\n",
      "        H[5,4] = conj(H[4,5])\n",
      "        H[4,6] = -2498.42305101261 * Ez\n",
      "        H[6,4] = conj(H[4,6])\n",
      "        H[4,7] = 3881860.40975263 * Ez - 0.290255963104835 * Ω0\n",
      "        H[7,4] = conj(H[4,7])\n",
      "        H[4,8] = 213.600427091975 * Ez\n",
      "        H[8,4] = conj(H[4,8])\n",
      "        H[4,9] = 113657.535248524 * Ez\n",
      "        H[9,4] = conj(H[4,9])\n",
      "        H[4,10] = -6661600.41488043 * Ez + 0.498103754422202 * Ω0\n",
      "        H[10,4] = conj(H[4,10])\n",
      "        H[4,11] = -402375.11480976 * Ez + 0.0300865472094521 * Ω0\n",
      "        H[11,4] = conj(H[4,11])\n",
      "        H[4,12] = -0.00109434149291348 * Ez\n",
      "        H[12,4] = conj(H[4,12])\n",
      "        H[4,13] = -0.000202516419800558 * Ez\n",
      "        H[13,4] = conj(H[4,13])\n",
      "        H[4,14] = -10.10344196502 * Ez\n",
      "        H[14,4] = conj(H[4,14])\n",
      "        H[4,15] = 0.00238726172107686 * Ez\n",
      "        H[15,4] = conj(H[4,15])\n",
      "        H[4,16] = 0.000231751426342522 * Ez\n",
      "        H[16,4] = conj(H[4,16])\n",
      "        H[5,5] = -237.199836521643 * t0 - δ0 - 1336622.01037598\n",
      "        H[5,7] = 1.01414256782393e-5 * t0\n",
      "        H[7,5] = conj(H[5,7])\n",
      "        H[5,9] = -1.13856326637606e-6 * t0\n",
      "        H[9,5] = conj(H[5,9])\n",
      "        H[5,10] = 6.69723125237562e-5 * t0\n",
      "        H[10,5] = conj(H[5,10])\n",
      "        H[5,11] = 4.03313665650566e-6 * t0\n",
      "        H[11,5] = conj(H[5,11])\n",
      "        H[5,12] = -0.000583274033451223 * t0\n",
      "        H[12,5] = conj(H[5,12])\n",
      "        H[5,13] = -0.00123277693010631 * t0\n",
      "        H[13,5] = conj(H[5,13])\n",
      "        H[5,14] = -33.5451348904492 * t0\n",
      "        H[14,5] = conj(H[5,14])\n",
      "        H[5,15] = 0.00763532511183391 * t0\n",
      "        H[15,5] = conj(H[5,15])\n",
      "        H[6,6] = -240.067019627495 * t0 - δ0 - 1196891.72532654\n",
      "        H[6,7] = -0.00553638490320645 * t0\n",
      "        H[7,6] = conj(H[6,7])\n",
      "        H[6,8] = -3.04867995722784e-7 * t0\n",
      "        H[8,6] = conj(H[6,8])\n",
      "        H[6,9] = 0.0160546218204309 * t0\n",
      "        H[9,6] = conj(H[6,9])\n",
      "        H[6,10] = -0.951870945304418 * t0\n",
      "        H[10,6] = conj(H[6,10])\n",
      "        H[6,11] = 15.433249992221 * t0\n",
      "        H[11,6] = conj(H[6,11])\n",
      "        H[6,12] = 0.00875824547875171 * t0\n",
      "        H[12,6] = conj(H[6,12])\n",
      "        H[6,13] = -30.756617220391 * t0\n",
      "        H[13,6] = conj(H[6,13])\n",
      "        H[6,14] = 0.00113004532834626 * t0\n",
      "        H[14,6] = conj(H[6,14])\n",
      "        H[6,15] = -0.000223015993653087 * t0\n",
      "        H[15,6] = conj(H[6,15])\n",
      "        H[7,7] = -231.465009854807 * t0 - δ0 - 1196891.6182251\n",
      "        H[7,8] = 0.000473327912326781 * t0\n",
      "        H[8,7] = conj(H[7,8])\n",
      "        H[7,9] = -0.527437598838381 * t0\n",
      "        H[9,7] = conj(H[7,9])\n",
      "        H[7,10] = 30.8638491209003 * t0\n",
      "        H[10,7] = conj(H[7,10])\n",
      "        H[7,11] = 1.87421437493372 * t0\n",
      "        H[11,7] = conj(H[7,11])\n",
      "        H[7,12] = 5.62505649707031e-6 * t0\n",
      "        H[12,7] = conj(H[7,12])\n",
      "        H[7,13] = -0.0197954278040043 * t0\n",
      "        H[13,7] = conj(H[7,13])\n",
      "        H[7,14] = 7.18792818413206e-5 * t0\n",
      "        H[14,7] = conj(H[7,14])\n",
      "        H[7,15] = 0.00169223325862533 * t0\n",
      "        H[15,7] = conj(H[7,15])\n",
      "        H[8,8] = -240.067014444058 * t0 - δ0 - 1196891.51123047\n",
      "        H[8,9] = 15.4602409980091 * t0\n",
      "        H[9,8] = conj(H[8,9])\n",
      "        H[8,10] = 0.265463971027493 * t0\n",
      "        H[10,8] = conj(H[8,10])\n",
      "        H[8,11] = 0.00028858882535417 * t0\n",
      "        H[11,8] = conj(H[8,11])\n",
      "        H[8,12] = 0.000315631680646084 * t0\n",
      "        H[12,8] = conj(H[8,12])\n",
      "        H[8,13] = 0.000221764299550975 * t0\n",
      "        H[13,8] = conj(H[8,13])\n",
      "        H[8,14] = -0.00700063589970694 * t0\n",
      "        H[14,8] = conj(H[8,14])\n",
      "        H[8,15] = -30.7566491571219 * t0\n",
      "        H[15,8] = conj(H[8,15])\n",
      "        H[8,16] = -2.40601458763039e-5 * t0\n",
      "        H[16,8] = conj(H[8,16])\n",
      "        H[9,9] = -222.484576414731 * t0 - δ0 - 91349.8672027588\n",
      "        H[9,10] = 0.750848319841636 * t0\n",
      "        H[10,9] = conj(H[9,10])\n",
      "        H[9,11] = 0.0453527994675924 * t0\n",
      "        H[11,9] = conj(H[9,11])\n",
      "        H[9,12] = -0.000188711496145375 * t0\n",
      "        H[12,9] = conj(H[9,12])\n",
      "        H[9,13] = 0.0180503845489027 * t0\n",
      "        H[13,9] = conj(H[9,13])\n",
      "        H[9,14] = 0.00407013648685071 * t0\n",
      "        H[14,9] = conj(H[9,14])\n",
      "        H[9,15] = 17.8845099069506 * t0\n",
      "        H[15,9] = conj(H[9,15])\n",
      "        H[9,16] = 1.39905663441601e-5 * t0\n",
      "        H[16,9] = conj(H[9,16])\n",
      "        H[10,10] = -266.479859577518 * t0 - δ0 - 91349.8652801514\n",
      "        H[10,11] = -2.65818063437989 * t0\n",
      "        H[11,10] = conj(H[10,11])\n",
      "        H[10,12] = 0.000303874464923936 * t0\n",
      "        H[12,10] = conj(H[10,12])\n",
      "        H[10,13] = -1.07815004488699 * t0\n",
      "        H[13,10] = conj(H[10,13])\n",
      "        H[10,14] = 0.000106947976410339 * t0\n",
      "        H[14,10] = conj(H[10,14])\n",
      "        H[10,15] = 0.305117505669365 * t0\n",
      "        H[15,10] = conj(H[10,15])\n",
      "        H[10,16] = 2.40545971197191e-7 * t0\n",
      "        H[16,10] = conj(H[10,16])\n",
      "        H[11,11] = -222.632386741743 * t0 - δ0 - 91349.8637390137\n",
      "        H[11,12] = -0.00508428021991898 * t0\n",
      "        H[12,11] = conj(H[11,12])\n",
      "        H[11,13] = 17.8546239089218 * t0\n",
      "        H[13,11] = conj(H[11,13])\n",
      "        H[11,14] = -0.000656128895881907 * t0\n",
      "        H[14,11] = conj(H[11,14])\n",
      "        H[11,15] = 0.000344004245980647 * t0\n",
      "        H[15,11] = conj(H[11,15])\n",
      "        H[12,12] = -213.479251876953 * t0 - δ0 - 0.20599365234375\n",
      "        H[12,13] = 0.0101315337778995 * t0\n",
      "        H[13,12] = conj(H[12,13])\n",
      "        H[12,14] = -0.000825149337731954 * t0\n",
      "        H[14,12] = conj(H[12,14])\n",
      "        H[12,15] = 0.000365384953024925 * t0\n",
      "        H[15,12] = conj(H[12,15])\n",
      "        H[13,13] = -249.058603444121 * t0 - δ0 - 0.103012084960938\n",
      "        H[13,14] = -0.000436029174488983 * t0\n",
      "        H[14,13] = conj(H[13,14])\n",
      "        H[13,15] = 2.09436506964754e-7 * t0\n",
      "        H[15,13] = conj(H[13,15])\n",
      "        H[14,14] = -260.918438003701 * t0 - δ0\n",
      "        H[14,15] = 0.00269943741004 * t0\n",
      "        H[15,14] = conj(H[14,15])\n",
      "        H[15,15] = -249.058676766099 * t0 - δ0 + 0.102996826171875\n",
      "        H[15,16] = -2.78328794456693e-5 * t0\n",
      "        H[16,15] = conj(H[15,16])\n",
      "        H[16,16] = -213.479248973826 * t0 - δ0 + 0.20599365234375\n",
      "    end\n",
      "    nothing\n",
      "end\n"
     ]
    }
   ],
   "source": [
    "print(func)"
   ]
  },
  {
   "cell_type": "code",
   "execution_count": 46,
   "id": "5e1b7965",
   "metadata": {},
   "outputs": [],
   "source": [
    "heff0 = smp.Matrix(H0.copy())\n",
    "for idx in range(4, 16):\n",
    "    heff0[idx, idx] -= ω0\n",
    "for idx in range(0, 36):\n",
    "    heff0[idx, idx] -= H0[1, 1]\n",
    "heff0 = heff0.subs({ω0: H0[13, 13] - H0[1, 1] + δ0})\n",
    "stark = eigenvecs.conj().T @ HSz_unc @ eigenvecs\n",
    "stark[stark < 1e-5] = 0\n",
    "cpl = full_dmat.copy()\n",
    "cpl[cpl < 1e-5] = 0\n",
    "Heff = smp.Matrix(heff0 + stark * Ez + Ω0 * cpl)\n",
    "func, _ = sympy_matrix_to_julia_fill_hermitian(Heff, \"hamiltonian_effective!\")\n"
   ]
  },
  {
   "cell_type": "code",
   "execution_count": 47,
   "id": "29e5a6e5",
   "metadata": {},
   "outputs": [
    {
     "name": "stdout",
     "output_type": "stream",
     "text": [
      "function hamiltonian_effective!(H, Ez, Ω0, δ0)\n",
      "    @inbounds begin\n",
      "        zero_matrix!(H)\n",
      "        t0 = 0.577350269189626 * Ω0\n",
      "        H[1,1] = -0.203910287276813\n",
      "        H[1,5] = 98.8468961775812 * Ez\n",
      "        H[5,1] = conj(H[1,5])\n",
      "        H[1,6] = 4719731.80277188 * Ez\n",
      "        H[6,1] = conj(H[1,6])\n",
      "        H[1,7] = 3037.686121584 * Ez\n",
      "        H[7,1] = conj(H[1,7])\n",
      "        H[1,8] = 64.8184489245145 * Ez\n",
      "        H[8,1] = conj(H[1,8])\n",
      "        H[1,9] = t0\n",
      "        H[9,1] = conj(H[1,9])\n",
      "        H[1,10] = 165447.844974341 * Ez\n",
      "        H[10,1] = conj(H[1,10])\n",
      "        H[1,13] = 5459877.56152657 * Ez\n",
      "        H[13,1] = conj(H[1,13])\n",
      "        H[1,15] = 114.347618969987 * Ez\n",
      "        H[15,1] = conj(H[1,15])\n",
      "        H[2,6] = 104.648842317083 * Ez\n",
      "        H[6,2] = conj(H[2,6])\n",
      "        H[2,7] = 3.25093675287555 * Ez\n",
      "        H[7,2] = conj(H[2,7])\n",
      "        H[2,8] = 0.00141053601389573 * Ez\n",
      "        H[8,2] = conj(H[2,8])\n",
      "        H[2,10] = 14.0628229016998 * Ez + t0\n",
      "        H[10,2] = conj(H[2,10])\n",
      "        H[2,15] = 1434.99757687073 * Ez\n",
      "        H[15,2] = conj(H[2,15])\n",
      "        H[3,3] = 0.203802646166878\n",
      "        H[3,8] = 4719732.00029503 * Ez\n",
      "        H[8,3] = conj(H[3,8])\n",
      "        H[3,11] = 4.60887743701224 * Ez + t0\n",
      "        H[11,3] = conj(H[3,11])\n",
      "        H[3,14] = 1242.74755844634 * Ez\n",
      "        H[14,3] = conj(H[3,14])\n",
      "        H[3,15] = 5459882.99991352 * Ez\n",
      "        H[15,3] = conj(H[3,15])\n",
      "        H[3,16] = 4.27112786897421 * Ez\n",
      "        H[16,3] = conj(H[3,16])\n",
      "        H[4,4] = 83566.3656423294\n",
      "        H[4,5] = 1.46724954589485 * Ez\n",
      "        H[5,4] = conj(H[4,5])\n",
      "        H[4,7] = 3881860.40975263 * Ez\n",
      "        H[7,4] = conj(H[4,7])\n",
      "        H[4,8] = 213.600427091975 * Ez\n",
      "        H[8,4] = conj(H[4,8])\n",
      "        H[4,9] = 113657.535248524 * Ez\n",
      "        H[9,4] = conj(H[4,9])\n",
      "        H[4,12] = t0\n",
      "        H[12,4] = conj(H[4,12])\n",
      "        H[4,15] = 0.00238726172107686 * Ez\n",
      "        H[15,4] = conj(H[4,15])\n",
      "        H[4,16] = 0.000231751426342522 * Ez\n",
      "        H[16,4] = conj(H[4,16])\n",
      "        H[5,5] = -δ0 - 1336622.01037598\n",
      "        H[5,21] = 0.00571687380030488 * Ez\n",
      "        H[21,5] = conj(H[5,21])\n",
      "        H[5,23] = 0.000324652937216917 * Ez\n",
      "        H[23,5] = conj(H[5,23])\n",
      "        H[5,24] = 2.5994438323819e-5 * Ez\n",
      "        H[24,5] = conj(H[5,24])\n",
      "        H[5,25] = 1.8770608903507e-5 * Ez\n",
      "        H[25,5] = conj(H[5,25])\n",
      "        H[5,26] = 9.55510057777906e-5 * Ez\n",
      "        H[26,5] = conj(H[5,26])\n",
      "        H[5,27] = 0.348182770122543 * Ez\n",
      "        H[27,5] = conj(H[5,27])\n",
      "        H[5,33] = 4.29978184934252e-5 * Ez\n",
      "        H[33,5] = conj(H[5,33])\n",
      "        H[6,6] = -δ0 - 1196891.72532654\n",
      "        H[6,18] = 1.93735353850706 * Ez\n",
      "        H[18,6] = conj(H[6,18])\n",
      "        H[6,20] = 7.66375475593499e-5 * Ez\n",
      "        H[20,6] = conj(H[6,20])\n",
      "        H[6,21] = 5390095.68630091 * Ez\n",
      "        H[21,6] = conj(H[6,21])\n",
      "        H[6,22] = 11796.3279031078 * Ez\n",
      "        H[22,6] = conj(H[6,22])\n",
      "        H[6,23] = 73.8342040593202 * Ez\n",
      "        H[23,6] = conj(H[6,23])\n",
      "        H[6,24] = 1653.98895578479 * Ez\n",
      "        H[24,6] = conj(H[6,24])\n",
      "        H[6,28] = 190545.89945023 * Ez\n",
      "        H[28,6] = conj(H[6,28])\n",
      "        H[6,29] = 0.000144642578979924 * Ez\n",
      "        H[29,6] = conj(H[6,29])\n",
      "        H[6,34] = 3.51426749293731e-5 * Ez\n",
      "        H[34,6] = conj(H[6,34])\n",
      "        H[6,36] = 1.92306312030949e-5 * Ez\n",
      "        H[36,6] = conj(H[6,36])\n",
      "        H[7,7] = -δ0 - 1196891.6182251\n",
      "        H[7,18] = 3.87674293041504 * Ez\n",
      "        H[18,7] = conj(H[7,18])\n",
      "        H[7,21] = 12464.8401426373 * Ez\n",
      "        H[21,7] = conj(H[7,21])\n",
      "        H[7,23] = 296.639889505041 * Ez\n",
      "        H[23,7] = conj(H[7,23])\n",
      "        H[7,24] = 1.04044814017467 * Ez\n",
      "        H[24,7] = conj(H[7,24])\n",
      "        H[7,27] = 220023.481399573 * Ez\n",
      "        H[27,7] = conj(H[7,27])\n",
      "        H[7,28] = 122.320845380475 * Ez\n",
      "        H[28,7] = conj(H[7,28])\n",
      "        H[7,29] = 1.20590847621362e-5 * Ez\n",
      "        H[29,7] = conj(H[7,29])\n",
      "        H[7,31] = 2.87784788024999e-5 * Ez\n",
      "        H[31,7] = conj(H[7,31])\n",
      "        H[7,33] = 0.0795890655056433 * Ez\n",
      "        H[33,7] = conj(H[7,33])\n",
      "        H[8,8] = -δ0 - 1196891.51123047\n",
      "        H[8,17] = 3337351.91151888 * Ez\n",
      "        H[17,8] = conj(H[8,17])\n",
      "        H[8,21] = 74.5199831238065 * Ez\n",
      "        H[21,8] = conj(H[8,21])\n",
      "        H[8,24] = 0.0227331203207895 * Ez\n",
      "        H[24,8] = conj(H[8,24])\n",
      "        H[8,26] = 190545.891427811 * Ez\n",
      "        H[26,8] = conj(H[8,26])\n",
      "        H[8,27] = 12.1068732740244 * Ez\n",
      "        H[27,8] = conj(H[8,27])\n",
      "        H[8,28] = 2.61683425534663 * Ez\n",
      "        H[28,8] = conj(H[8,28])\n",
      "        H[8,32] = 1.66065818639918e-5 * Ez\n",
      "        H[32,8] = conj(H[8,32])\n",
      "        H[8,33] = 4.21337072546329e-5 * Ez\n",
      "        H[33,8] = conj(H[8,33])\n",
      "        H[9,9] = -δ0 - 91349.8672027588\n",
      "        H[9,19] = 1999.28555042772 * Ez\n",
      "        H[19,9] = conj(H[9,19])\n",
      "        H[9,21] = 977.062882173874 * Ez\n",
      "        H[21,9] = conj(H[9,21])\n",
      "        H[9,24] = 0.291721173874369 * Ez\n",
      "        H[24,9] = conj(H[9,24])\n",
      "        H[9,25] = 5.96938676706921 * Ez\n",
      "        H[25,9] = conj(H[9,25])\n",
      "        H[9,31] = 1.06908338923025e-5 * Ez\n",
      "        H[31,9] = conj(H[9,31])\n",
      "        H[9,32] = 0.00322589724899855 * Ez\n",
      "        H[32,9] = conj(H[9,32])\n",
      "        H[9,34] = 2.88151192632057 * Ez\n",
      "        H[34,9] = conj(H[9,34])\n",
      "        H[10,10] = -δ0 - 91349.8652801514\n",
      "        H[10,18] = 1.59751552859173 * Ez\n",
      "        H[18,10] = conj(H[10,18])\n",
      "        H[10,20] = 0.000362277557484794 * Ez\n",
      "        H[20,10] = conj(H[10,20])\n",
      "        H[10,22] = 1063704.08802366 * Ez\n",
      "        H[22,10] = conj(H[10,22])\n",
      "        H[10,27] = 6586025.51207446 * Ez\n",
      "        H[27,10] = conj(H[10,27])\n",
      "        H[10,28] = 344453.821693852 * Ez\n",
      "        H[28,10] = conj(H[10,28])\n",
      "        H[10,29] = 9.94723741702387e-5 * Ez\n",
      "        H[29,10] = conj(H[10,29])\n",
      "        H[10,33] = 3.52294104725377 * Ez\n",
      "        H[33,10] = conj(H[10,33])\n",
      "        H[10,34] = 0.049319823094456 * Ez\n",
      "        H[34,10] = conj(H[10,34])\n",
      "        H[11,11] = -δ0 - 91349.8637390137\n",
      "        H[11,17] = 3.25997422769111 * Ez\n",
      "        H[17,11] = conj(H[11,17])\n",
      "        H[11,19] = 1937399.45148259 * Ez\n",
      "        H[19,11] = conj(H[11,19])\n",
      "        H[11,20] = 0.000226351367255348 * Ez\n",
      "        H[20,11] = conj(H[11,20])\n",
      "        H[11,21] = 921305.318093432 * Ez\n",
      "        H[21,11] = conj(H[11,21])\n",
      "        H[11,22] = 65586.6197774175 * Ez\n",
      "        H[22,11] = conj(H[11,22])\n",
      "        H[11,23] = 1.55063002930398 * Ez\n",
      "        H[23,11] = conj(H[11,23])\n",
      "        H[11,24] = 282.737462926122 * Ez\n",
      "        H[24,11] = conj(H[11,24])\n",
      "        H[11,25] = 5784.75326435772 * Ez\n",
      "        H[25,11] = conj(H[11,25])\n",
      "        H[11,26] = 9.59799178380494 * Ez\n",
      "        H[26,11] = conj(H[11,26])\n",
      "        H[11,27] = 397801.976192939 * Ez\n",
      "        H[27,11] = conj(H[11,27])\n",
      "        H[11,32] = 2.87376461073067 * Ez\n",
      "        H[32,11] = conj(H[11,32])\n",
      "        H[11,33] = 0.210169502074283 * Ez\n",
      "        H[33,11] = conj(H[11,33])\n",
      "        H[11,35] = 0.000397620440702143 * Ez\n",
      "        H[35,11] = conj(H[11,35])\n",
      "        H[11,36] = 0.000389286552736355 * Ez\n",
      "        H[36,11] = conj(H[11,36])\n",
      "        H[12,12] = -δ0 - 0.20599365234375\n",
      "        H[12,17] = 7.92088404201237 * Ez\n",
      "        H[17,12] = conj(H[12,17])\n",
      "        H[12,23] = 14.3457398730081 * Ez\n",
      "        H[23,12] = conj(H[12,23])\n",
      "        H[12,25] = 0.283518808255877 * Ez\n",
      "        H[25,12] = conj(H[12,25])\n",
      "        H[12,27] = 0.000530155601948326 * Ez\n",
      "        H[27,12] = conj(H[12,27])\n",
      "        H[12,29] = 2025207.01472494 * Ez\n",
      "        H[29,12] = conj(H[12,29])\n",
      "        H[12,31] = 4883464.50758667 * Ez\n",
      "        H[31,12] = conj(H[12,31])\n",
      "        H[12,32] = 1937.61689710425 * Ez\n",
      "        H[32,12] = conj(H[12,32])\n",
      "        H[12,35] = 307.868378009957 * Ez\n",
      "        H[35,12] = conj(H[12,35])\n",
      "        H[13,13] = -δ0 - 0.103012084960938\n",
      "        H[13,17] = 16.1714963677557 * Ez\n",
      "        H[17,13] = conj(H[13,17])\n",
      "        H[13,19] = 772145.250013066 * Ez\n",
      "        H[19,13] = conj(H[13,19])\n",
      "        H[13,21] = 1398450.53550292 * Ez\n",
      "        H[21,13] = conj(H[13,21])\n",
      "        H[13,22] = 2021.22844398628 * Ez\n",
      "        H[22,13] = conj(H[13,22])\n",
      "        H[13,23] = 29.2887399241643 * Ez\n",
      "        H[23,13] = conj(H[13,23])\n",
      "        H[13,24] = 429.124070953148 * Ez\n",
      "        H[24,13] = conj(H[13,24])\n",
      "        H[13,27] = 1.45970195796152 * Ez\n",
      "        H[27,13] = conj(H[13,27])\n",
      "        H[13,28] = 1012599.90888835 * Ez\n",
      "        H[28,13] = conj(H[13,28])\n",
      "        H[13,29] = 576.697019054236 * Ez\n",
      "        H[29,13] = conj(H[13,29])\n",
      "        H[13,31] = 1616.5893822418 * Ez\n",
      "        H[31,13] = conj(H[13,31])\n",
      "        H[13,36] = 425.599811027485 * Ez\n",
      "        H[36,13] = conj(H[13,36])\n",
      "        H[14,14] = -δ0\n",
      "        H[14,20] = 48.6545338501838 * Ez\n",
      "        H[20,14] = conj(H[14,20])\n",
      "        H[14,22] = 1.3172050498767 * Ez\n",
      "        H[22,14] = conj(H[14,22])\n",
      "        H[14,25] = 0.0370140305821082 * Ez\n",
      "        H[25,14] = conj(H[14,25])\n",
      "        H[14,26] = 230.482546261942 * Ez\n",
      "        H[26,14] = conj(H[14,26])\n",
      "        H[14,27] = 3.54063638599231 * Ez\n",
      "        H[27,14] = conj(H[14,27])\n",
      "        H[14,32] = 230.166036453468 * Ez\n",
      "        H[32,14] = conj(H[14,32])\n",
      "        H[14,34] = 1406.00823600956 * Ez\n",
      "        H[34,14] = conj(H[14,34])\n",
      "        H[14,35] = 0.0235706291244289 * Ez\n",
      "        H[35,14] = conj(H[14,35])\n",
      "        H[15,15] = 0.102996826171875 - δ0\n",
      "        H[15,18] = 202.938956580662 * Ez\n",
      "        H[18,15] = conj(H[15,18])\n",
      "        H[15,19] = 16.1763813970397 * Ez\n",
      "        H[19,15] = conj(H[15,19])\n",
      "        H[15,21] = 29.2972599453191 * Ez\n",
      "        H[21,15] = conj(H[15,21])\n",
      "        H[15,22] = 0.0420044950427182 * Ez\n",
      "        H[22,15] = conj(H[15,22])\n",
      "        H[15,26] = 1012604.90318875 * Ez\n",
      "        H[26,15] = conj(H[15,26])\n",
      "        H[15,28] = 21.2103095728193 * Ez\n",
      "        H[28,15] = conj(H[15,28])\n",
      "        H[15,29] = 20.7953088493301 * Ez\n",
      "        H[29,15] = conj(H[15,29])\n",
      "        H[15,31] = 50.1490728497 * Ez\n",
      "        H[31,15] = conj(H[15,31])\n",
      "        H[15,33] = 1491.29054589497 * Ez\n",
      "        H[33,15] = conj(H[15,33])\n",
      "        H[15,34] = 6177150.00114276 * Ez\n",
      "        H[34,15] = conj(H[15,34])\n",
      "        H[15,35] = 3.80807754517337 * Ez\n",
      "        H[35,15] = conj(H[15,35])\n",
      "        H[15,36] = 0.00917628306873553 * Ez\n",
      "        H[36,15] = conj(H[15,36])\n",
      "        H[16,16] = 0.20599365234375 - δ0\n",
      "        H[16,24] = 2796901.76086966 * Ez\n",
      "        H[24,16] = conj(H[16,24])\n",
      "        H[16,25] = 2025202.65782897 * Ez\n",
      "        H[25,16] = conj(H[16,25])\n",
      "        H[16,26] = 0.792185636784175 * Ez\n",
      "        H[26,16] = conj(H[16,26])\n",
      "        H[16,28] = 2053.69625954274 * Ez\n",
      "        H[28,16] = conj(H[16,28])\n",
      "        H[16,29] = 0.00897790977888018 * Ez\n",
      "        H[29,16] = conj(H[16,29])\n",
      "        H[16,31] = 307.632308041953 * Ez\n",
      "        H[31,16] = conj(H[16,31])\n",
      "        H[16,32] = 577.352487862802 * Ez\n",
      "        H[32,16] = conj(H[16,32])\n",
      "        H[16,34] = 4.83223732143923 * Ez\n",
      "        H[34,16] = conj(H[16,34])\n",
      "        H[17,17] = 251351105990.383\n",
      "        H[18,18] = 251351105990.483\n",
      "        H[19,19] = 251351105990.583\n",
      "        H[20,20] = 251351385710.588\n",
      "        H[21,21] = 251351385710.630\n",
      "        H[22,22] = 251351385710.672\n",
      "        H[23,23] = 251351385710.713\n",
      "        H[24,24] = 251351385710.755\n",
      "        H[25,25] = 251353137539.996\n",
      "        H[26,26] = 251353137540.002\n",
      "        H[27,27] = 251353137540.008\n",
      "        H[28,28] = 251353137540.014\n",
      "        H[29,29] = 251353137540.020\n",
      "        H[30,30] = 251353358826.368\n",
      "        H[31,31] = 251353358826.437\n",
      "        H[32,32] = 251353358826.505\n",
      "        H[33,33] = 251353358826.574\n",
      "        H[34,34] = 251353358826.643\n",
      "        H[35,35] = 251353358826.711\n",
      "        H[36,36] = 251353358826.780\n",
      "    end\n",
      "    nothing\n",
      "end\n"
     ]
    }
   ],
   "source": [
    "print(func)\n"
   ]
  },
  {
   "cell_type": "code",
   "execution_count": null,
   "id": "14f706ee",
   "metadata": {},
   "outputs": [],
   "source": []
  }
 ],
 "metadata": {
  "kernelspec": {
   "display_name": "centrex-eql-testing",
   "language": "python",
   "name": "python3"
  },
  "language_info": {
   "codemirror_mode": {
    "name": "ipython",
    "version": 3
   },
   "file_extension": ".py",
   "mimetype": "text/x-python",
   "name": "python",
   "nbconvert_exporter": "python",
   "pygments_lexer": "ipython3",
   "version": "3.11.9"
  }
 },
 "nbformat": 4,
 "nbformat_minor": 5
}
