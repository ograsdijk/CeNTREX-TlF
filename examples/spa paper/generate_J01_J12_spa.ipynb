{
 "cells": [
  {
   "cell_type": "code",
   "execution_count": 1,
   "id": "e0ca3f54",
   "metadata": {},
   "outputs": [],
   "source": [
    "import copy\n",
    "\n",
    "import numpy as np\n",
    "import sympy as smp\n",
    "import matplotlib.pyplot as plt\n",
    "\n",
    "from centrex_tlf import states, couplings, transitions, hamiltonian, lindblad\n",
    "\n",
    "from effective_hamiltonian import build_effective_operators\n",
    "from julia_code import sympy_matrix_to_julia_fill_hermitian"
   ]
  },
  {
   "cell_type": "code",
   "execution_count": 2,
   "id": "8525f658",
   "metadata": {},
   "outputs": [],
   "source": [
    "plt.rcParams.update({f\"font.size\": 14})"
   ]
  },
  {
   "cell_type": "code",
   "execution_count": 3,
   "id": "f0e70823",
   "metadata": {},
   "outputs": [],
   "source": [
    "X_states_uncoupled = states.generate_uncoupled_states_ground(Js=[0, 1, 2, 3])\n",
    "\n",
    "ham_uncoupled = hamiltonian.generate_uncoupled_hamiltonian_X(X_states_uncoupled)\n",
    "ham_func = hamiltonian.generate_uncoupled_hamiltonian_X_function(ham_uncoupled)"
   ]
  },
  {
   "cell_type": "code",
   "execution_count": 4,
   "id": "285f69eb",
   "metadata": {},
   "outputs": [],
   "source": [
    "Huncoupled = ham_func([0, 0, 0], [0, 0, 1e-5])\n",
    "eigenvals, eigenvecs = np.linalg.eigh(Huncoupled)\n",
    "H0 = np.diag(eigenvals)\n",
    "HSz_unc = ham_uncoupled.HSz * 2 * np.pi\n",
    "\n",
    "# filter small values\n",
    "m = np.abs(HSz_unc) < (np.abs(HSz_unc).max() / 1e6)\n",
    "HSz_unc[m] = 0\n",
    "\n",
    "# make states and filter\n",
    "QN = hamiltonian.matrix_to_states(eigenvecs, list(X_states_uncoupled))\n",
    "QN = [qn.remove_small_components().normalize() for qn in QN]"
   ]
  },
  {
   "cell_type": "code",
   "execution_count": 5,
   "id": "2d55e692",
   "metadata": {},
   "outputs": [],
   "source": [
    "QN_coupled = [qn.transform_to_coupled() for qn in QN]\n",
    "QN_coupled = [qn.remove_small_components().normalize() for qn in QN_coupled]"
   ]
  },
  {
   "cell_type": "markdown",
   "id": "e1d00003",
   "metadata": {},
   "source": [
    "# Microwave couplings"
   ]
  },
  {
   "cell_type": "code",
   "execution_count": 6,
   "id": "aa48ea77",
   "metadata": {},
   "outputs": [],
   "source": [
    "X_states_coupled = [qn.transform_to_coupled() for qn in X_states_uncoupled]\n",
    "full_dmat_J01 = couplings.generate_coupling_matrix(\n",
    "    X_states_coupled,\n",
    "    X_states_coupled[:4],\n",
    "    X_states_coupled[4:16],\n",
    "    np.array([0, 0, 1], dtype=np.complex128),\n",
    ")\n",
    "full_dmat_J12 = couplings.generate_coupling_matrix(\n",
    "    X_states_coupled,\n",
    "    X_states_coupled[4:16],\n",
    "    X_states_coupled[16:36],\n",
    "    np.array([0, 0, 1], dtype=np.complex128),\n",
    ")"
   ]
  },
  {
   "cell_type": "code",
   "execution_count": 7,
   "id": "86ea73b0",
   "metadata": {},
   "outputs": [
    {
     "data": {
      "text/plain": [
       "<matplotlib.image.AxesImage at 0x23e0203df10>"
      ]
     },
     "execution_count": 7,
     "metadata": {},
     "output_type": "execute_result"
    },
    {
     "data": {
      "image/png": "[encoded data removed]",
      "text/plain": [
       "<Figure size 640x480 with 1 Axes>"
      ]
     },
     "metadata": {},
     "output_type": "display_data"
    }
   ],
   "source": [
    "plt.imshow(full_dmat_J01.real)"
   ]
  },
  {
   "cell_type": "code",
   "execution_count": 8,
   "id": "63f2be1f",
   "metadata": {},
   "outputs": [
    {
     "data": {
      "text/plain": [
       "<matplotlib.image.AxesImage at 0x23e18b27860>"
      ]
     },
     "execution_count": 8,
     "metadata": {},
     "output_type": "execute_result"
    },
    {
     "data": {
      "image/png": "[encoded data removed]",
      "text/plain": [
       "<Figure size 640x480 with 1 Axes>"
      ]
     },
     "metadata": {},
     "output_type": "display_data"
    }
   ],
   "source": [
    "plt.imshow(full_dmat_J12.real)"
   ]
  },
  {
   "cell_type": "code",
   "execution_count": 9,
   "id": "9a3c03fa",
   "metadata": {},
   "outputs": [],
   "source": [
    "Ez = smp.Symbol(\"Ez\", real=True)\n",
    "Ω0 = smp.Symbol(\"Ω0\")\n",
    "Ω1 = smp.Symbol(\"Ω1\")\n",
    "ω0 = smp.Symbol(\"ω0\", real=True)\n",
    "δ0 = smp.Symbol(\"δ0\", real=True)\n",
    "ω1 = smp.Symbol(\"ω1\", real=True)\n",
    "δ1 = smp.Symbol(\"δ1\", real=True)"
   ]
  },
  {
   "cell_type": "code",
   "execution_count": 10,
   "id": "d88dd751",
   "metadata": {},
   "outputs": [
    {
     "name": "stdout",
     "output_type": "stream",
     "text": [
      "function hamiltonian_full_nocoupling!(H, Ez)\n",
      "    @inbounds begin\n",
      "        zero_matrix!(H)\n",
      "        t0 = -7721437.06731616 * Ez\n",
      "        t1 = -5980999.43410083 * Ez\n",
      "        t2 = -6906263.26660222 * Ez\n",
      "        t3 = -5054867.11925916 * Ez\n",
      "        t4 = -6393957.34654118 * Ez\n",
      "        t5 = -6781815.89753522 * Ez\n",
      "        H[1,1] = -20891.3873116726\n",
      "        H[1,9] = t0\n",
      "        H[9,1] = conj(H[1,9])\n",
      "        H[1,20] = -12045.0481400455\n",
      "        H[20,1] = conj(H[1,20])\n",
      "        H[1,22] = 6022.52407002275\n",
      "        H[22,1] = conj(H[1,22])\n",
      "        H[1,23] = 6022.52407002275\n",
      "        H[23,1] = conj(H[1,23])\n",
      "        H[1,25] = -4917.37031172851\n",
      "        H[25,1] = conj(H[1,25])\n",
      "        H[2,2] = 20891.5431975001\n",
      "        H[2,3] = -41783.1822927442\n",
      "        H[3,2] = conj(H[2,3])\n",
      "        H[2,10] = t0\n",
      "        H[10,2] = conj(H[2,10])\n",
      "        H[2,24] = -6022.52407002275\n",
      "        H[24,2] = conj(H[2,24])\n",
      "        H[2,26] = 4917.37031172851\n",
      "        H[26,2] = conj(H[2,26])\n",
      "        H[2,27] = 4917.37031172851\n",
      "        H[27,2] = conj(H[2,27])\n",
      "        H[2,29] = -6022.52407002275\n",
      "        H[29,2] = conj(H[2,29])\n",
      "        H[3,3] = 20891.6390952442\n",
      "        H[3,11] = t0\n",
      "        H[11,3] = conj(H[3,11])\n",
      "        H[3,24] = -6022.52407002275\n",
      "        H[24,3] = conj(H[3,24])\n",
      "        H[3,26] = 4917.37031172851\n",
      "        H[26,3] = conj(H[3,26])\n",
      "        H[3,27] = 4917.37031172851\n",
      "        H[27,3] = conj(H[3,27])\n",
      "        H[3,29] = -6022.52407002275\n",
      "        H[29,3] = conj(H[3,29])\n",
      "        H[4,4] = -20891.7949810716\n",
      "        H[4,12] = t0\n",
      "        H[12,4] = conj(H[4,12])\n",
      "        H[4,28] = -4917.37031172851\n",
      "        H[28,4] = conj(H[4,28])\n",
      "        H[4,30] = 6022.52407002275\n",
      "        H[30,4] = conj(H[4,30])\n",
      "        H[4,31] = 6022.52407002275\n",
      "        H[31,4] = conj(H[4,31])\n",
      "        H[4,33] = -12045.0481400455\n",
      "        H[33,4] = conj(H[4,33])\n",
      "        H[5,5] = 83784583915.3948\n",
      "        H[5,21] = t1\n",
      "        H[21,5] = conj(H[5,21])\n",
      "        H[5,40] = -13657.8008178692\n",
      "        H[40,5] = conj(H[5,40])\n",
      "        H[5,42] = 5575.77383539106\n",
      "        H[42,5] = conj(H[5,42])\n",
      "        H[5,43] = 5575.77383539106\n",
      "        H[43,5] = conj(H[5,43])\n",
      "        H[5,45] = -3526.42900756170\n",
      "        H[45,5] = conj(H[5,45])\n",
      "        H[6,6] = 83784508893.9105\n",
      "        H[6,7] = -43982.2971502571\n",
      "        H[7,6] = conj(H[6,7])\n",
      "        H[6,9] = 84148.2028487195\n",
      "        H[9,6] = conj(H[6,9])\n",
      "        H[6,22] = t1\n",
      "        H[22,6] = conj(H[6,22])\n",
      "        H[6,44] = -5575.77383539106\n",
      "        H[44,6] = conj(H[6,44])\n",
      "        H[6,46] = 3526.42900756170\n",
      "        H[46,6] = conj(H[6,46])\n",
      "        H[6,47] = 3526.42900756170\n",
      "        H[47,6] = conj(H[6,47])\n",
      "        H[6,49] = -3053.97710519078\n",
      "        H[49,6] = conj(H[6,49])\n",
      "        H[7,7] = 83783829430.3472\n",
      "        H[7,9] = 564601.563781165\n",
      "        H[9,7] = conj(H[7,9])\n",
      "        H[7,23] = t1\n",
      "        H[23,7] = conj(H[7,23])\n",
      "        H[7,44] = -5575.77383539106\n",
      "        H[44,7] = conj(H[7,44])\n",
      "        H[7,46] = 3526.42900756170\n",
      "        H[46,7] = conj(H[7,46])\n",
      "        H[7,47] = 3526.42900756170\n",
      "        H[47,7] = conj(H[7,47])\n",
      "        H[7,49] = -3053.97710519078\n",
      "        H[49,7] = conj(H[7,49])\n",
      "        H[8,8] = 83783679638.9577\n",
      "        H[8,10] = 555271.509611033\n",
      "        H[10,8] = conj(H[8,10])\n",
      "        H[8,11] = 74818.1486785869\n",
      "        H[11,8] = conj(H[8,11])\n",
      "        H[8,13] = 13194.6891450771\n",
      "        H[13,8] = conj(H[8,13])\n",
      "        H[8,24] = t1\n",
      "        H[24,8] = conj(H[8,24])\n",
      "        H[8,48] = -3526.42900756170\n",
      "        H[48,8] = conj(H[8,48])\n",
      "        H[8,50] = 3053.97710519078\n",
      "        H[50,8] = conj(H[8,50])\n",
      "        H[8,51] = 3053.97710519078\n",
      "        H[51,8] = conj(H[8,51])\n",
      "        H[8,53] = -3526.42900756170\n",
      "        H[53,8] = conj(H[8,53])\n",
      "        H[9,9] = 83784125180.0333\n",
      "        H[9,25] = t2\n",
      "        H[25,9] = conj(H[9,25])\n",
      "        H[9,44] = -7885.33497873508\n",
      "        H[44,9] = conj(H[9,44])\n",
      "        H[9,46] = 4987.12372923965\n",
      "        H[46,9] = conj(H[9,46])\n",
      "        H[9,47] = 4987.12372923965\n",
      "        H[47,9] = conj(H[9,47])\n",
      "        H[9,49] = -4318.97584133772\n",
      "        H[49,9] = conj(H[9,49])\n",
      "        H[10,10] = 83784175759.4233\n",
      "        H[10,11] = -37384.9525777185\n",
      "        H[11,10] = conj(H[10,11])\n",
      "        H[10,13] = 74818.1486785869\n",
      "        H[13,10] = conj(H[10,13])\n",
      "        H[10,26] = t2\n",
      "        H[26,10] = conj(H[10,26])\n",
      "        H[10,48] = -4987.12372923965\n",
      "        H[48,10] = conj(H[10,48])\n",
      "        H[10,50] = 4318.97584133772\n",
      "        H[50,10] = conj(H[10,50])\n",
      "        H[10,51] = 4318.97584133772\n",
      "        H[51,10] = conj(H[10,51])\n",
      "        H[10,53] = -4987.12372923965\n",
      "        H[53,10] = conj(H[10,53])\n",
      "        H[11,11] = 83784175759.5192\n",
      "        H[11,13] = 555271.509611033\n",
      "        H[13,11] = conj(H[11,13])\n",
      "        H[11,27] = t2\n",
      "        H[27,11] = conj(H[11,27])\n",
      "        H[11,48] = -4987.12372923965\n",
      "        H[48,11] = conj(H[11,48])\n",
      "        H[11,50] = 4318.97584133772\n",
      "        H[50,11] = conj(H[11,50])\n",
      "        H[11,51] = 4318.97584133772\n",
      "        H[51,11] = conj(H[11,51])\n",
      "        H[11,53] = -4987.12372923965\n",
      "        H[53,11] = conj(H[11,53])\n",
      "        H[12,12] = 83784125179.6257\n",
      "        H[12,14] = 564601.563781165\n",
      "        H[14,12] = conj(H[12,14])\n",
      "        H[12,15] = 84148.2028487195\n",
      "        H[15,12] = conj(H[12,15])\n",
      "        H[12,28] = t2\n",
      "        H[28,12] = conj(H[12,28])\n",
      "        H[12,52] = -4318.97584133772\n",
      "        H[52,12] = conj(H[12,52])\n",
      "        H[12,54] = 4987.12372923965\n",
      "        H[54,12] = conj(H[12,54])\n",
      "        H[12,55] = 4987.12372923965\n",
      "        H[55,12] = conj(H[12,55])\n",
      "        H[12,57] = -7885.33497873508\n",
      "        H[57,12] = conj(H[12,57])\n",
      "        H[13,13] = 83783679639.3610\n",
      "        H[13,29] = t1\n",
      "        H[29,13] = conj(H[13,29])\n",
      "        H[13,48] = -3526.42900756170\n",
      "        H[48,13] = conj(H[13,48])\n",
      "        H[13,50] = 3053.97710519078\n",
      "        H[50,13] = conj(H[13,50])\n",
      "        H[13,51] = 3053.97710519078\n",
      "        H[51,13] = conj(H[13,51])\n",
      "        H[13,53] = -3526.42900756170\n",
      "        H[53,13] = conj(H[13,53])\n",
      "        H[14,14] = 83783829430.2469\n",
      "        H[14,15] = -43982.2971502571\n",
      "        H[15,14] = conj(H[14,15])\n",
      "        H[14,30] = t1\n",
      "        H[30,14] = conj(H[14,30])\n",
      "        H[14,52] = -3053.97710519078\n",
      "        H[52,14] = conj(H[14,52])\n",
      "        H[14,54] = 3526.42900756170\n",
      "        H[54,14] = conj(H[14,54])\n",
      "        H[14,55] = 3526.42900756170\n",
      "        H[55,14] = conj(H[14,55])\n",
      "        H[14,57] = -5575.77383539106\n",
      "        H[57,14] = conj(H[14,57])\n",
      "        H[15,15] = 83784508894.0020\n",
      "        H[15,31] = t1\n",
      "        H[31,15] = conj(H[15,31])\n",
      "        H[15,52] = -3053.97710519078\n",
      "        H[52,15] = conj(H[15,52])\n",
      "        H[15,54] = 3526.42900756170\n",
      "        H[54,15] = conj(H[15,54])\n",
      "        H[15,55] = 3526.42900756170\n",
      "        H[55,15] = conj(H[15,55])\n",
      "        H[15,57] = -5575.77383539106\n",
      "        H[57,15] = conj(H[15,57])\n",
      "        H[16,16] = 83784583914.9827\n",
      "        H[16,32] = t1\n",
      "        H[32,16] = conj(H[16,32])\n",
      "        H[16,56] = -3526.42900756170\n",
      "        H[56,16] = conj(H[16,56])\n",
      "        H[16,58] = 5575.77383539106\n",
      "        H[58,16] = conj(H[16,58])\n",
      "        H[16,59] = 5575.77383539106\n",
      "        H[59,16] = conj(H[16,59])\n",
      "        H[16,61] = -13657.8008178692\n",
      "        H[61,16] = conj(H[16,61])\n",
      "        H[17,17] = 251353337935.188\n",
      "        H[17,41] = t3\n",
      "        H[41,17] = conj(H[17,41])\n",
      "        H[18,18] = 251353148622.563\n",
      "        H[18,19] = -44924.7749463340\n",
      "        H[19,18] = conj(H[18,19])\n",
      "        H[18,21] = 117118.574125827\n",
      "        H[21,18] = conj(H[18,21])\n",
      "        H[18,42] = t3\n",
      "        H[42,18] = conj(H[18,42])\n",
      "        H[19,19] = 251351789695.341\n",
      "        H[19,21] = 796582.233244228\n",
      "        H[21,19] = conj(H[19,21])\n",
      "        H[19,43] = t3\n",
      "        H[43,19] = conj(H[19,43])\n",
      "        H[20,20] = 251351529382.722\n",
      "        H[20,22] = 787157.455283459\n",
      "        H[22,20] = conj(H[20,22])\n",
      "        H[20,23] = 107693.796165058\n",
      "        H[23,20] = conj(H[20,23])\n",
      "        H[20,25] = 7695.29898097118\n",
      "        H[25,20] = conj(H[20,25])\n",
      "        H[20,44] = t3\n",
      "        H[44,20] = conj(H[20,44])\n",
      "        H[21,21] = 251352881084.783\n",
      "        H[21,45] = t4\n",
      "        H[45,21] = conj(H[21,45])\n",
      "        H[22,22] = 251352813603.121\n",
      "        H[22,23] = -40212.3859659494\n",
      "        H[23,22] = conj(H[22,23])\n",
      "        H[22,25] = 139592.723514817\n",
      "        H[25,22] = conj(H[22,25])\n",
      "        H[22,46] = t4\n",
      "        H[46,22] = conj(H[22,46])\n",
      "        H[23,23] = 251352134139.558\n",
      "        H[23,25] = 971762.355317041\n",
      "        H[25,23] = conj(H[23,25])\n",
      "        H[23,47] = t4\n",
      "        H[47,23] = conj(H[23,47])\n",
      "        H[24,24] = 251351976808.346\n",
      "        H[24,26] = 967914.705826555\n",
      "        H[26,24] = conj(H[24,26])\n",
      "        H[24,27] = 135745.074024332\n",
      "        H[27,24] = conj(H[24,27])\n",
      "        H[24,29] = 9424.77796076938\n",
      "        H[29,24] = conj(H[24,29])\n",
      "        H[24,48] = t4\n",
      "        H[48,24] = conj(H[24,48])\n",
      "        H[25,25] = 251352427375.971\n",
      "        H[25,49] = t5\n",
      "        H[49,25] = conj(H[25,49])\n",
      "        H[26,26] = 251352475442.087\n",
      "        H[26,27] = -38641.5896391545\n",
      "        H[27,26] = conj(H[26,27])\n",
      "        H[26,29] = 135745.074024332\n",
      "        H[29,26] = conj(H[26,29])\n",
      "        H[26,50] = t5\n",
      "        H[50,26] = conj(H[26,50])\n",
      "        H[27,27] = 251352475442.183\n",
      "        H[27,29] = 967914.705826555\n",
      "        H[29,27] = conj(H[27,29])\n",
      "        H[27,51] = t5\n",
      "        H[51,27] = conj(H[27,51])\n",
      "        H[28,28] = 251352427375.563\n",
      "        H[28,30] = 971762.355317041\n",
      "        H[30,28] = conj(H[28,30])\n",
      "        H[28,31] = 139592.723514817\n",
      "        H[31,28] = conj(H[28,31])\n",
      "        H[28,33] = 7695.29898097118\n",
      "        H[33,28] = conj(H[28,33])\n",
      "        H[28,52] = t5\n",
      "        H[52,28] = conj(H[28,52])\n",
      "        H[29,29] = 251351976808.752\n",
      "        H[29,53] = t4\n",
      "        H[53,29] = conj(H[29,53])\n",
      "        H[30,30] = 251352134139.460\n",
      "        H[30,31] = -40212.3859659494\n",
      "        H[31,30] = conj(H[30,31])\n",
      "        H[30,33] = 107693.796165058\n",
      "        H[33,30] = conj(H[30,33])\n",
      "        H[30,54] = t4\n",
      "        H[54,30] = conj(H[30,54])\n",
      "        H[31,31] = 251352813603.215\n",
      "        H[31,33] = 787157.455283459\n",
      "        H[33,31] = conj(H[31,33])\n",
      "        H[31,55] = t4\n",
      "        H[55,31] = conj(H[31,55])\n",
      "        H[32,32] = 251352881084.373\n",
      "        H[32,34] = 796582.233244228\n",
      "        H[34,32] = conj(H[32,34])\n",
      "        H[32,35] = 117118.574125827\n",
      "        H[35,32] = conj(H[32,35])\n",
      "        H[32,56] = t4\n",
      "        H[56,32] = conj(H[32,56])\n",
      "        H[33,33] = 251351529383.125\n",
      "        H[33,57] = t3\n",
      "        H[57,33] = conj(H[33,57])\n",
      "        H[34,34] = 251351789695.240\n",
      "        H[34,35] = -44924.7749463340\n",
      "        H[35,34] = conj(H[34,35])\n",
      "        H[34,58] = t3\n",
      "        H[58,34] = conj(H[34,58])\n",
      "        H[35,35] = 251353148622.654\n",
      "        H[35,59] = t3\n",
      "        H[59,35] = conj(H[35,59])\n",
      "        H[36,36] = 251353337934.776\n",
      "        H[36,60] = t3\n",
      "        H[60,36] = conj(H[36,60])\n",
      "        H[37,37] = 502706242005.753\n",
      "        H[38,38] = 502705939239.745\n",
      "        H[38,39] = -45448.3737219323\n",
      "        H[39,38] = conj(H[38,39])\n",
      "        H[38,41] = 142157.823175141\n",
      "        H[41,38] = conj(H[38,41])\n",
      "        H[39,39] = 502703900848.863\n",
      "        H[39,41] = 974327.454977365\n",
      "        H[41,39] = conj(H[39,41])\n",
      "        H[40,40] = 502703529177.257\n",
      "        H[40,42] = 965349.606166232\n",
      "        H[42,40] = conj(H[40,42])\n",
      "        H[40,43] = 133179.974364008\n",
      "        H[43,40] = conj(H[40,43])\n",
      "        H[40,45] = 5678.09014636306\n",
      "        H[45,40] = conj(H[40,45])\n",
      "        H[41,41] = 502705786202.546\n",
      "        H[42,42] = 502705603173.106\n",
      "        H[42,43] = -41783.1822927442\n",
      "        H[43,42] = conj(H[42,43])\n",
      "        H[42,45] = 181206.889968121\n",
      "        H[45,42] = conj(H[42,45])\n",
      "        H[43,43] = 502704244245.884\n",
      "        H[43,45] = 1255533.26503131\n",
      "        H[45,43] = conj(H[43,45])\n",
      "        H[44,44] = 502703977650.079\n",
      "        H[44,46] = 1248579.05324525\n",
      "        H[46,44] = conj(H[44,46])\n",
      "        H[44,47] = 174252.678182064\n",
      "        H[47,44] = conj(H[44,47])\n",
      "        H[44,49] = 8030.03209336367\n",
      "        H[49,44] = conj(H[44,49])\n",
      "        H[45,45] = 502705331865.415\n",
      "        H[46,46] = 502705265640.391\n",
      "        H[46,47] = -39584.0674352314\n",
      "        H[47,46] = conj(H[46,47])\n",
      "        H[46,49] = 195962.883311865\n",
      "        H[49,46] = conj(H[46,49])\n",
      "        H[47,47] = 502704586176.827\n",
      "        H[47,49] = 1372828.46280159\n",
      "        H[49,47] = conj(H[47,49])\n",
      "        H[48,48] = 502704427588.978\n",
      "        H[48,50] = 1370289.14369167\n",
      "        H[50,48] = conj(H[48,50])\n",
      "        H[48,51] = 193423.564201937\n",
      "        H[51,48] = conj(H[48,51])\n",
      "        H[48,53] = 8796.45943005142\n",
      "        H[53,48] = conj(H[48,53])\n",
      "        H[49,49] = 502704878994.362\n",
      "        H[50,50] = 502704926641.599\n",
      "        H[50,51] = -38851.0291493938\n",
      "        H[51,50] = conj(H[50,51])\n",
      "        H[50,53] = 193423.564201937\n",
      "        H[53,50] = conj(H[50,53])\n",
      "        H[51,51] = 502704926641.694\n",
      "        H[51,53] = 1370289.14369167\n",
      "        H[53,51] = conj(H[51,53])\n",
      "        H[52,52] = 502704878993.954\n",
      "        H[52,54] = 1372828.46280159\n",
      "        H[54,52] = conj(H[52,54])\n",
      "        H[52,55] = 195962.883311865\n",
      "        H[55,52] = conj(H[52,55])\n",
      "        H[52,57] = 8030.03209336367\n",
      "        H[57,52] = conj(H[52,57])\n",
      "        H[53,53] = 502704427589.385\n",
      "        H[54,54] = 502704586176.730\n",
      "        H[54,55] = -39584.0674352314\n",
      "        H[55,54] = conj(H[54,55])\n",
      "        H[54,57] = 174252.678182064\n",
      "        H[57,54] = conj(H[54,57])\n",
      "        H[55,55] = 502705265640.485\n",
      "        H[55,57] = 1248579.05324525\n",
      "        H[57,55] = conj(H[55,57])\n",
      "        H[56,56] = 502705331865.006\n",
      "        H[56,58] = 1255533.26503131\n",
      "        H[58,56] = conj(H[56,58])\n",
      "        H[56,59] = 181206.889968121\n",
      "        H[59,56] = conj(H[56,59])\n",
      "        H[56,61] = 5678.09014636306\n",
      "        H[61,56] = conj(H[56,61])\n",
      "        H[57,57] = 502703977650.484\n",
      "        H[58,58] = 502704244245.785\n",
      "        H[58,59] = -41783.1822927442\n",
      "        H[59,58] = conj(H[58,59])\n",
      "        H[58,61] = 133179.974364008\n",
      "        H[61,58] = conj(H[58,61])\n",
      "        H[59,59] = 502705603173.199\n",
      "        H[59,61] = 965349.606166232\n",
      "        H[61,59] = conj(H[59,61])\n",
      "        H[60,60] = 502705786202.135\n",
      "        H[60,62] = 974327.454977365\n",
      "        H[62,60] = conj(H[60,62])\n",
      "        H[60,63] = 142157.823175141\n",
      "        H[63,60] = conj(H[60,63])\n",
      "        H[61,61] = 502703529177.660\n",
      "        H[62,62] = 502703900848.763\n",
      "        H[62,63] = -45448.3737219323\n",
      "        H[63,62] = conj(H[62,63])\n",
      "        H[63,63] = 502705939239.836\n",
      "        H[64,64] = 502706242005.341\n",
      "    end\n",
      "    nothing\n",
      "end\n"
     ]
    }
   ],
   "source": [
    "heff0 = Huncoupled\n",
    "stark = HSz_unc.copy()\n",
    "Heff = smp.Matrix(heff0 + stark * Ez)\n",
    "func, _ = sympy_matrix_to_julia_fill_hermitian(Heff, \"hamiltonian_full_nocoupling!\")\n",
    "print(func)\n",
    "\n",
    "with open(\"J01_J12_spa_functions.jl\", \"w\") as f:\n",
    "    f.write(func)\n",
    "    f.write(\"\\n\\n\")"
   ]
  },
  {
   "cell_type": "code",
   "execution_count": 11,
   "id": "2bff8acb",
   "metadata": {},
   "outputs": [
    {
     "name": "stdout",
     "output_type": "stream",
     "text": [
      "function coupling_full!(C, Ω0, Ω1)\n",
      "    @inbounds begin\n",
      "        zero_matrix!(C)\n",
      "        t0 = 0.288675134594813 * Ω0\n",
      "        t1 = 0.223606797749979 * Ω1\n",
      "        t2 = 0.223606797749979 * Ω1\n",
      "        t3 = 0.223606797749979 * Ω1\n",
      "        t4 = 0.258198889747161 * Ω1\n",
      "        t5 = 0.258198889747161 * Ω1\n",
      "        C[1,9] = t0\n",
      "        C[9,1] = conj(C[1,9])\n",
      "        C[2,10] = t0\n",
      "        C[10,2] = conj(C[2,10])\n",
      "        C[3,11] = t0\n",
      "        C[11,3] = conj(C[3,11])\n",
      "        C[4,12] = t0\n",
      "        C[12,4] = conj(C[4,12])\n",
      "        C[5,21] = t1\n",
      "        C[21,5] = conj(C[5,21])\n",
      "        C[6,22] = t2\n",
      "        C[22,6] = conj(C[6,22])\n",
      "        C[7,23] = t1\n",
      "        C[23,7] = conj(C[7,23])\n",
      "        C[8,24] = t3\n",
      "        C[24,8] = conj(C[8,24])\n",
      "        C[9,25] = t4\n",
      "        C[25,9] = conj(C[9,25])\n",
      "        C[10,26] = t5\n",
      "        C[26,10] = conj(C[10,26])\n",
      "        C[11,27] = t5\n",
      "        C[27,11] = conj(C[11,27])\n",
      "        C[12,28] = t4\n",
      "        C[28,12] = conj(C[12,28])\n",
      "        C[13,29] = t3\n",
      "        C[29,13] = conj(C[13,29])\n",
      "        C[14,30] = t1\n",
      "        C[30,14] = conj(C[14,30])\n",
      "        C[15,31] = t2\n",
      "        C[31,15] = conj(C[15,31])\n",
      "        C[16,32] = t1\n",
      "        C[32,16] = conj(C[16,32])\n",
      "    end\n",
      "    nothing\n",
      "end\n"
     ]
    }
   ],
   "source": [
    "cpl_J01 = full_dmat_J01.copy()\n",
    "cpl_J01[cpl_J01 < 1e-5] = 0\n",
    "cpl_J12 = full_dmat_J12.copy()\n",
    "cpl_J12[cpl_J12 < 1e-5] = 0\n",
    "\n",
    "Heff = smp.Matrix(Ω0 * cpl_J01 / 2) + smp.Matrix(Ω1 * cpl_J12 / 2)\n",
    "func, _ = sympy_matrix_to_julia_fill_hermitian(\n",
    "    Heff, \"coupling_full!\", zero_input=True, inplace_add=False, input_name=\"C\"\n",
    ")\n",
    "print(func)\n",
    "\n",
    "with open(\"J01_J12_spa_functions.jl\", \"a\") as f:\n",
    "    f.write(func)\n",
    "    f.write(\"\\n\\n\")"
   ]
  },
  {
   "cell_type": "code",
   "execution_count": 103,
   "id": "728df171",
   "metadata": {},
   "outputs": [
    {
     "name": "stdout",
     "output_type": "stream",
     "text": [
      "function detuning!(H, δ0, δ1, ω0, ω1)\n",
      "    @inbounds begin\n",
      "        t0 = -δ0 + δ1 - ω0\n",
      "        t1 = -ω0 - ω1\n",
      "        H[5,5] += t0\n",
      "        H[6,6] += t0\n",
      "        H[7,7] += t0\n",
      "        H[8,8] += t0\n",
      "        H[9,9] += t0\n",
      "        H[10,10] += t0\n",
      "        H[11,11] += t0\n",
      "        H[12,12] += t0\n",
      "        H[13,13] += t0\n",
      "        H[14,14] += t0\n",
      "        H[15,15] += t0\n",
      "        H[16,16] += t0\n",
      "        H[17,17] += t1\n",
      "        H[18,18] += t1\n",
      "        H[19,19] += t1\n",
      "        H[20,20] += t1\n",
      "        H[21,21] += t1\n",
      "        H[22,22] += t1\n",
      "        H[23,23] += t1\n",
      "        H[24,24] += t1\n",
      "        H[25,25] += t1\n",
      "        H[26,26] += t1\n",
      "        H[27,27] += t1\n",
      "        H[28,28] += t1\n",
      "        H[29,29] += t1\n",
      "        H[30,30] += t1\n",
      "        H[31,31] += t1\n",
      "        H[32,32] += t1\n",
      "        H[33,33] += t1\n",
      "        H[34,34] += t1\n",
      "        H[35,35] += t1\n",
      "        H[36,36] += t1\n",
      "    end\n",
      "    nothing\n",
      "end\n"
     ]
    }
   ],
   "source": [
    "rot_transform = smp.zeros(*Huncoupled.shape)\n",
    "for i in range(4, 16):\n",
    "    rot_transform[i, i] -= ω0 + δ0 - δ1\n",
    "for i in range(16, 36):\n",
    "    rot_transform[i, i] -= ω1 + ω0\n",
    "\n",
    "func, _ = sympy_matrix_to_julia_fill_hermitian(\n",
    "    rot_transform, \"detuning!\", zero_input=False, inplace_add=True, input_name=\"H\"\n",
    ")\n",
    "print(func)\n",
    "\n",
    "with open(\"J01_J12_spa_functions.jl\", \"a\") as f:\n",
    "    f.write(func)\n",
    "    f.write(\"\\n\\n\")"
   ]
  },
  {
   "cell_type": "code",
   "execution_count": 49,
   "id": "a7d15e13",
   "metadata": {},
   "outputs": [],
   "source": [
    "zμ0 = 0.0\n",
    "zμ1 = 25.4e-3 * 1.125"
   ]
  },
  {
   "cell_type": "code",
   "execution_count": 101,
   "id": "bce99bb0",
   "metadata": {},
   "outputs": [
    {
     "data": {
      "text/plain": [
       "|X, J = 0, F₁ = 1/2, F = 0, mF = 0, I₁ = 1/2, I₂ = 1/2, P = +, Ω = 0>"
      ]
     },
     "metadata": {},
     "output_type": "display_data"
    },
    {
     "data": {
      "text/plain": [
       "|X, J = 1, F₁ = 3/2, F = 1, mF = 0, I₁ = 1/2, I₂ = 1/2, P = -, Ω = 0>"
      ]
     },
     "metadata": {},
     "output_type": "display_data"
    },
    {
     "name": "stdout",
     "output_type": "stream",
     "text": [
      "83784430033.205\n",
      "13334.70619392163 MHz\n"
     ]
    },
    {
     "data": {
      "text/plain": [
       "|X, J = 1, F₁ = 3/2, F = 1, mF = 0, I₁ = 1/2, I₂ = 1/2, P = -, Ω = 0>"
      ]
     },
     "metadata": {},
     "output_type": "display_data"
    },
    {
     "data": {
      "text/plain": [
       "|X, J = 2, F₁ = 5/2, F = 2, mF = 0, I₁ = 1/2, I₂ = 1/2, P = +, Ω = 0>"
      ]
     },
     "metadata": {},
     "output_type": "display_data"
    },
    {
     "name": "stdout",
     "output_type": "stream",
     "text": [
      "167568624056.66653\n",
      "26669.37482572597 MHz\n"
     ]
    }
   ],
   "source": [
    "from state_prep.electric_fields import Ez_from_csv\n",
    "\n",
    "Ez = Ez_from_csv()\n",
    "\n",
    "E, V = np.linalg.eigh(ham_func([0, 0, Ez(-0.25)], [0, 0, 1e-5]))\n",
    "\n",
    "QN = hamiltonian.matrix_to_states(V, list(X_states_uncoupled))\n",
    "QN = [qn.remove_small_components().normalize() for qn in QN]\n",
    "\n",
    "QN_coupled = [qn.transform_to_coupled() for qn in QN]\n",
    "QN_coupled = [qn.remove_small_components().normalize() for qn in QN_coupled]\n",
    "\n",
    "display(QN_coupled[3].largest)\n",
    "display(QN_coupled[10].largest)\n",
    "\n",
    "print(E[10] - E[3])\n",
    "print((E[10] - E[3]) / (2 * np.pi * 1e6), \"MHz\")\n",
    "\n",
    "display(QN_coupled[10].largest)\n",
    "display(QN_coupled[28].largest)\n",
    "\n",
    "print(E[28] - E[10])\n",
    "print((E[28] - E[10]) / (2 * np.pi * 1e6), \"MHz\")"
   ]
  },
  {
   "cell_type": "code",
   "execution_count": 92,
   "id": "6acad1ec",
   "metadata": {},
   "outputs": [
    {
     "data": {
      "text/plain": [
       "|X, J = 0, F₁ = 1/2, F = 0, mF = 0, I₁ = 1/2, I₂ = 1/2, P = +, Ω = 0>"
      ]
     },
     "metadata": {},
     "output_type": "display_data"
    },
    {
     "data": {
      "text/plain": [
       "|X, J = 1, F₁ = 3/2, F = 1, mF = 0, I₁ = 1/2, I₂ = 1/2, P = -, Ω = 0>"
      ]
     },
     "metadata": {},
     "output_type": "display_data"
    },
    {
     "name": "stdout",
     "output_type": "stream",
     "text": [
      "83817989701.69382\n",
      "13340.04738105015 MHz\n"
     ]
    }
   ],
   "source": [
    "E, V = np.linalg.eigh(ham_func([0, 0, Ez(zμ0)], [0, 0, 1e-5]))\n",
    "\n",
    "QN = hamiltonian.matrix_to_states(V, list(X_states_uncoupled))\n",
    "QN = [qn.remove_small_components().normalize() for qn in QN]\n",
    "\n",
    "QN_coupled = [qn.transform_to_coupled() for qn in QN]\n",
    "QN_coupled = [qn.remove_small_components().normalize() for qn in QN_coupled]\n",
    "\n",
    "display(QN_coupled[3].largest)\n",
    "display(QN_coupled[15].largest)\n",
    "\n",
    "print(E[15] - E[3])\n",
    "print((E[15] - E[3]) / (2 * np.pi * 1e6), \"MHz\")"
   ]
  },
  {
   "cell_type": "code",
   "execution_count": 93,
   "id": "c9a4d53c",
   "metadata": {},
   "outputs": [
    {
     "data": {
      "text/plain": [
       "|X, J = 1, F₁ = 3/2, F = 1, mF = 0, I₁ = 1/2, I₂ = 1/2, P = -, Ω = 0>"
      ]
     },
     "metadata": {},
     "output_type": "display_data"
    },
    {
     "data": {
      "text/plain": [
       "|X, J = 2, F₁ = 5/2, F = 2, mF = 0, I₁ = 1/2, I₂ = 1/2, P = +, Ω = 0>"
      ]
     },
     "metadata": {},
     "output_type": "display_data"
    },
    {
     "name": "stdout",
     "output_type": "stream",
     "text": [
      "167564827658.9896\n",
      "26668.77061026974 MHz\n"
     ]
    }
   ],
   "source": [
    "E, V = np.linalg.eigh(ham_func([0, 0, Ez(zμ1)], [0, 0, 1e-5]))\n",
    "\n",
    "QN = hamiltonian.matrix_to_states(V, list(X_states_uncoupled))\n",
    "QN = [qn.remove_small_components().normalize() for qn in QN]\n",
    "\n",
    "QN_coupled = [qn.transform_to_coupled() for qn in QN]\n",
    "QN_coupled = [qn.remove_small_components().normalize() for qn in QN_coupled]\n",
    "\n",
    "display(QN_coupled[15].largest)\n",
    "display(QN_coupled[32].largest)\n",
    "\n",
    "print(E[32] - E[15])\n",
    "print((E[32] - E[15]) / (2 * np.pi * 1e6), \"MHz\")"
   ]
  },
  {
   "cell_type": "code",
   "execution_count": null,
   "id": "9d4967a0",
   "metadata": {},
   "outputs": [],
   "source": []
  }
 ],
 "metadata": {
  "kernelspec": {
   "display_name": "centrex-eql",
   "language": "python",
   "name": "python3"
  },
  "language_info": {
   "codemirror_mode": {
    "name": "ipython",
    "version": 3
   },
   "file_extension": ".py",
   "mimetype": "text/x-python",
   "name": "python",
   "nbconvert_exporter": "python",
   "pygments_lexer": "ipython3",
   "version": "3.12.3"
  }
 },
 "nbformat": 4,
 "nbformat_minor": 5
}
