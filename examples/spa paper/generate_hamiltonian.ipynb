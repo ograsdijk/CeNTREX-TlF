{
 "cells": [
  {
   "cell_type": "code",
   "execution_count": 263,
   "id": "f5e8fccd",
   "metadata": {},
   "outputs": [],
   "source": [
    "import numpy as np\n",
    "import sympy as smp\n",
    "import matplotlib.pyplot as plt\n",
    "\n",
    "from centrex_tlf import states, couplings, transitions, hamiltonian, lindblad"
   ]
  },
  {
   "cell_type": "code",
   "execution_count": 163,
   "id": "39444b2a",
   "metadata": {},
   "outputs": [],
   "source": [
    "Ez = smp.symbols(\"E_z\")"
   ]
  },
  {
   "cell_type": "code",
   "execution_count": 164,
   "id": "28c6cb77",
   "metadata": {},
   "outputs": [],
   "source": [
    "X_states_uncoupled = states.generate_uncoupled_states_ground(Js=[0, 1, 2, 3])"
   ]
  },
  {
   "cell_type": "code",
   "execution_count": 165,
   "id": "4a52b366",
   "metadata": {},
   "outputs": [],
   "source": [
    "ham_uncoupled = hamiltonian.generate_uncoupled_hamiltonian_X(X_states_uncoupled)\n",
    "ham_func = hamiltonian.generate_uncoupled_hamiltonian_X_function(ham_uncoupled)"
   ]
  },
  {
   "cell_type": "code",
   "execution_count": 166,
   "id": "695f1750",
   "metadata": {},
   "outputs": [
    {
     "data": {
      "text/plain": [
       "<matplotlib.image.AxesImage at 0x173482b8b90>"
      ]
     },
     "execution_count": 166,
     "metadata": {},
     "output_type": "execute_result"
    },
    {
     "data": {
      "image/png": "[encoded data removed]",
      "text/plain": [
       "<Figure size 640x480 with 1 Axes>"
      ]
     },
     "metadata": {},
     "output_type": "display_data"
    }
   ],
   "source": [
    "ham = ham_func([0, 0, 0], [0, 0, 1e-5]).real\n",
    "np.fill_diagonal(ham, 0)\n",
    "fig, ax = plt.subplots()\n",
    "\n",
    "ax.imshow(ham)"
   ]
  },
  {
   "cell_type": "code",
   "execution_count": 167,
   "id": "2deb7015",
   "metadata": {},
   "outputs": [
    {
     "data": {
      "text/plain": [
       "<matplotlib.image.AxesImage at 0x1734842f9e0>"
      ]
     },
     "execution_count": 167,
     "metadata": {},
     "output_type": "execute_result"
    },
    {
     "data": {
      "image/png": "[encoded data removed]",
      "text/plain": [
       "<Figure size 640x480 with 1 Axes>"
      ]
     },
     "metadata": {},
     "output_type": "display_data"
    }
   ],
   "source": [
    "fig, ax = plt.subplots()\n",
    "\n",
    "ax.imshow(ham_uncoupled.HSz.real)"
   ]
  },
  {
   "cell_type": "code",
   "execution_count": 168,
   "id": "c2f65011",
   "metadata": {},
   "outputs": [],
   "source": [
    "H0 = ham_func([0, 0, 0], [0, 0, 1e-5])\n",
    "eigenvals, eigenvecs = np.linalg.eigh(H0)\n",
    "HSz = eigenvecs.conj().T @ (ham_uncoupled.HSz) @ eigenvecs\n",
    "\n",
    "# filter small values\n",
    "m = np.abs(HSz) < (np.abs(HSz).max() / 1e4)\n",
    "HSz[m] = 0\n",
    "\n",
    "# make states and filter\n",
    "QN = hamiltonian.matrix_to_states(eigenvecs, list(X_states_uncoupled))\n",
    "QN = [qn.remove_small_components().normalize() for qn in QN]"
   ]
  },
  {
   "cell_type": "code",
   "execution_count": 169,
   "id": "6ab32431",
   "metadata": {},
   "outputs": [],
   "source": [
    "QN_coupled = [qn.transform_to_coupled() for qn in QN]\n",
    "QN_coupled = [qn.remove_small_components().normalize() for qn in QN_coupled]"
   ]
  },
  {
   "cell_type": "code",
   "execution_count": 265,
   "id": "028998cd",
   "metadata": {},
   "outputs": [],
   "source": [
    "from typing import List\n",
    "\n",
    "\n",
    "from centrex_tlf.couplings.transition import TransitionSelector\n",
    "\n",
    "\n",
    "trans = [\n",
    "    transitions.MicrowaveTransition(0, 1),\n",
    "    transitions.MicrowaveTransition(1, 2),\n",
    "]\n",
    "\n",
    "transition_selectors: List[TransitionSelector] = (\n",
    "    couplings.generate_transition_selectors(\n",
    "        transitions=trans,\n",
    "        polarizations=[\n",
    "            [couplings.polarization_Z, couplings.polarization_X],\n",
    "            [couplings.polarization_Z, couplings.polarization_X],\n",
    "        ],\n",
    "    )\n",
    ")\n",
    "\n",
    "QN_coupled_largest = [qn.largest for qn in QN_coupled]\n",
    "coupling_fields = []\n",
    "for trans in transition_selectors:\n",
    "    ground_states = [\n",
    "        QN_coupled[idx]\n",
    "        for idx in np.unique(\n",
    "            [QN_coupled_largest.index(qn.largest) for qn in trans.ground]\n",
    "        )\n",
    "    ]\n",
    "    excited_states = [\n",
    "        QN_coupled[idx]\n",
    "        for idx in np.unique(\n",
    "            [QN_coupled_largest.index(qn.largest) for qn in trans.excited]\n",
    "        )\n",
    "    ]\n",
    "\n",
    "    cf = []\n",
    "    for pol in trans.polarizations:\n",
    "        cmat = couplings.generate_coupling_matrix(\n",
    "            QN_coupled, ground_states, excited_states, pol\n",
    "        )\n",
    "        # filter small values\n",
    "        cmat[np.abs(cmat) < (np.abs(cmat).max() / 1e4)] = 0\n",
    "        cf.append(couplings.CouplingField(pol, cmat))\n",
    "\n",
    "    main_coupling = np.abs(cf[0].field).max()\n",
    "    idg, ide = np.where(np.abs(cf[0].field) == main_coupling)[0]\n",
    "    coupling_fields.append(\n",
    "        couplings.CouplingFields(\n",
    "            QN_coupled[idg],\n",
    "            QN_coupled[ide],\n",
    "            main_coupling,\n",
    "            ground_states,\n",
    "            excited_states,\n",
    "            cf,\n",
    "        )\n",
    "    )"
   ]
  },
  {
   "cell_type": "code",
   "execution_count": null,
   "id": "233335a2",
   "metadata": {},
   "outputs": [],
   "source": [
    "H_symbolic = lindblad.generate_total_symbolic_hamiltonian(\n",
    "    QN_coupled, H0, coupling_fields, transition_selectors\n",
    ")"
   ]
  },
  {
   "cell_type": "code",
   "execution_count": null,
   "id": "bc08e89f",
   "metadata": {},
   "outputs": [],
   "source": []
  }
 ],
 "metadata": {
  "kernelspec": {
   "display_name": "centrex-eql",
   "language": "python",
   "name": "python3"
  },
  "language_info": {
   "codemirror_mode": {
    "name": "ipython",
    "version": 3
   },
   "file_extension": ".py",
   "mimetype": "text/x-python",
   "name": "python",
   "nbconvert_exporter": "python",
   "pygments_lexer": "ipython3",
   "version": "3.12.3"
  }
 },
 "nbformat": 4,
 "nbformat_minor": 5
}
